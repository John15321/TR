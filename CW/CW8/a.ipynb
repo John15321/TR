{
 "cells": [
  {
   "cell_type": "code",
   "execution_count": 1,
   "metadata": {},
   "outputs": [],
   "source": [
    "import numpy as np\n",
    "import matplotlib.pyplot as plt\n",
    "import sympy as sp\n",
    "import control as co\n",
    "s = sp.Symbol('s', real=True)\n",
    "k = sp.Symbol('k', real=True)\n"
   ]
  },
  {
   "cell_type": "code",
   "execution_count": 2,
   "metadata": {},
   "outputs": [
    {
     "output_type": "execute_result",
     "data": {
      "text/plain": "1/((s + 1)*(s + 2)*(s + 3))",
      "text/latex": "$\\displaystyle \\frac{1}{\\left(s + 1\\right) \\left(s + 2\\right) \\left(s + 3\\right)}$"
     },
     "metadata": {},
     "execution_count": 2
    }
   ],
   "source": [
    "Ka = 1/((s+1)*(s+2)*(s+3))\n",
    "Ka"
   ]
  },
  {
   "cell_type": "code",
   "execution_count": 7,
   "metadata": {},
   "outputs": [
    {
     "output_type": "execute_result",
     "data": {
      "text/plain": "1/(s**3 + 6*s**2 + 11*s + 6)",
      "text/latex": "$\\displaystyle \\frac{1}{s^{3} + 6 s^{2} + 11 s + 6}$"
     },
     "metadata": {},
     "execution_count": 7
    }
   ],
   "source": [
    "Ka = sp.expand(Ka)\n",
    "Ka"
   ]
  },
  {
   "cell_type": "code",
   "execution_count": 8,
   "metadata": {},
   "outputs": [
    {
     "output_type": "execute_result",
     "data": {
      "text/plain": "1"
     },
     "metadata": {},
     "execution_count": 8
    }
   ],
   "source": [
    "Kr = 1\n",
    "Kr"
   ]
  },
  {
   "cell_type": "code",
   "execution_count": 11,
   "metadata": {},
   "outputs": [
    {
     "output_type": "execute_result",
     "data": {
      "text/plain": "1/(s**3 + s**3/(s**3 + 6*s**2 + 11*s + 6) + 6*s**2 + 6*s**2/(s**3 + 6*s**2 + 11*s + 6) + 11*s + 11*s/(s**3 + 6*s**2 + 11*s + 6) + 6 + 6/(s**3 + 6*s**2 + 11*s + 6))",
      "text/latex": "$\\displaystyle \\frac{1}{s^{3} + \\frac{s^{3}}{s^{3} + 6 s^{2} + 11 s + 6} + 6 s^{2} + \\frac{6 s^{2}}{s^{3} + 6 s^{2} + 11 s + 6} + 11 s + \\frac{11 s}{s^{3} + 6 s^{2} + 11 s + 6} + 6 + \\frac{6}{s^{3} + 6 s^{2} + 11 s + 6}}$"
     },
     "metadata": {},
     "execution_count": 11
    }
   ],
   "source": [
    "CLS = (Ka*Kr)/(1+Ka*Kr)\n",
    "CLS = sp.expand(CLS)\n",
    "CLS"
   ]
  },
  {
   "cell_type": "code",
   "execution_count": null,
   "metadata": {},
   "outputs": [],
   "source": []
  }
 ],
 "metadata": {
  "language_info": {
   "codemirror_mode": {
    "name": "ipython",
    "version": 3
   },
   "file_extension": ".py",
   "mimetype": "text/x-python",
   "name": "python",
   "nbconvert_exporter": "python",
   "pygments_lexer": "ipython3",
   "version": "3.8.3-final"
  },
  "orig_nbformat": 2,
  "kernelspec": {
   "name": "python38364bit6587694f42a84e689d790c0562cc5a1d",
   "display_name": "Python 3.8.3 64-bit"
  }
 },
 "nbformat": 4,
 "nbformat_minor": 2
}