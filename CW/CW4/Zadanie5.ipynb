{
 "cells": [
  {
   "cell_type": "code",
   "execution_count": 1,
   "metadata": {},
   "outputs": [],
   "source": [
    "# Biblioteka SymPy\n",
    "import sympy as sp\n",
    "'''\n",
    "Dodatkowo importujemy osobno skok Heaviside'a poniewaz\n",
    "funkcja jest zaimplementowana w sposob taki, aby\n",
    "byc jak dopasowywana do uzytkownika tak wiec\n",
    "musimy sami wybrac jej wartosc poczatkowa w tym wlasnie celu ja importujemy\n",
    "'''\n",
    "from sympy import Heaviside\n",
    "# NumPy uzywanany do numerycznych operacji matematycznych\n",
    "import numpy as np\n",
    "# Matplotlib sluzacy do wizualizacji\n",
    "import matplotlib.pyplot as plt\n",
    "from sympy.printing.latex import print_latex\n",
    "# from sympy import init_printing\n",
    "# init_printing() \n",
    "import control as co"
   ]
  },
  {
   "cell_type": "code",
   "execution_count": 14,
   "metadata": {},
   "outputs": [],
   "source": [
    "# Definiujemy obiekty biblioteki SymPy\n",
    "t, y, s, K, e= sp.symbols('t y s K e', real=True)"
   ]
  },
  {
   "cell_type": "code",
   "execution_count": 15,
   "metadata": {},
   "outputs": [
    {
     "output_type": "stream",
     "name": "stdout",
     "text": "\\frac{1}{\\left(s + 1\\right) \\left(s + 3\\right)}\n"
    },
    {
     "output_type": "execute_result",
     "data": {
      "text/plain": "1/((s + 1)*(s + 3))",
      "text/latex": "$\\displaystyle \\frac{1}{\\left(s + 1\\right) \\left(s + 3\\right)}$"
     },
     "metadata": {},
     "execution_count": 15
    }
   ],
   "source": [
    "# Tworzymy rownanie\n",
    "eq = 1/((s+1)*(s+3))\n",
    "print_latex(eq)\n",
    "eq"
   ]
  },
  {
   "cell_type": "code",
   "execution_count": 16,
   "metadata": {},
   "outputs": [
    {
     "output_type": "execute_result",
     "data": {
      "text/plain": "(exp(2*t) - 1)*exp(-3*t)*Heaviside(t)/2",
      "text/latex": "$\\displaystyle \\frac{\\left(e^{2 t} - 1\\right) e^{- 3 t} \\theta\\left(t\\right)}{2}$"
     },
     "metadata": {},
     "execution_count": 16
    }
   ],
   "source": [
    "sp.inverse_laplace_transform(eq, s, t)"
   ]
  },
  {
   "cell_type": "code",
   "execution_count": 17,
   "metadata": {},
   "outputs": [
    {
     "output_type": "execute_result",
     "data": {
      "text/plain": "e**(-s)/(s**2 + 1)",
      "text/latex": "$\\displaystyle \\frac{e^{- s}}{s^{2} + 1}$"
     },
     "metadata": {},
     "execution_count": 17
    }
   ],
   "source": [
    "A = (e**(-s))/(s**2 +1)\n",
    "A"
   ]
  },
  {
   "cell_type": "code",
   "execution_count": 18,
   "metadata": {},
   "outputs": [
    {
     "output_type": "execute_result",
     "data": {
      "text/plain": "K*DiracDelta(t)",
      "text/latex": "$\\displaystyle K \\delta\\left(t\\right)$"
     },
     "metadata": {},
     "execution_count": 18
    }
   ],
   "source": [
    "sp.inverse_laplace_transform(K, s, t)"
   ]
  },
  {
   "cell_type": "code",
   "execution_count": null,
   "metadata": {},
   "outputs": [],
   "source": []
  }
 ],
 "metadata": {
  "language_info": {
   "codemirror_mode": {
    "name": "ipython",
    "version": 3
   },
   "file_extension": ".py",
   "mimetype": "text/x-python",
   "name": "python",
   "nbconvert_exporter": "python",
   "pygments_lexer": "ipython3",
   "version": "3.8.3-final"
  },
  "orig_nbformat": 2,
  "kernelspec": {
   "name": "python38264bit043fbcae4f754630858fed414342a5d4",
   "display_name": "Python 3.8.2 64-bit"
  }
 },
 "nbformat": 4,
 "nbformat_minor": 2
}