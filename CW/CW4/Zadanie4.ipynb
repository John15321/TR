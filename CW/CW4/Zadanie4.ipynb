{
 "cells": [
  {
   "cell_type": "code",
   "execution_count": 1,
   "metadata": {},
   "outputs": [],
   "source": [
    "# Biblioteka SymPy\n",
    "import sympy as sp\n",
    "'''\n",
    "Dodatkowo importujemy osobno skok Heaviside'a poniewaz\n",
    "funkcja jest zaimplementowana w sposob taki, aby\n",
    "byc jak dopasowywana do uzytkownika tak wiec\n",
    "musimy sami wybrac jej wartosc poczatkowa w tym wlasnie celu ja importujemy\n",
    "'''\n",
    "from sympy import Heaviside\n",
    "# NumPy uzywanany do numerycznych operacji matematycznych\n",
    "import numpy as np\n",
    "# Matplotlib sluzacy do wizualizacji\n",
    "import matplotlib.pyplot as plt\n",
    "from sympy.printing.latex import print_latex\n",
    "# from sympy import init_printing\n",
    "# init_printing() "
   ]
  },
  {
   "cell_type": "markdown",
   "metadata": {},
   "source": [
    "# a)"
   ]
  },
  {
   "cell_type": "code",
   "execution_count": 5,
   "metadata": {},
   "outputs": [],
   "source": [
    "# Definiujemy obiekty biblioteki SymPy\n",
    "t, y, s, K= sp.symbols('t y s K')"
   ]
  },
  {
   "cell_type": "code",
   "execution_count": 6,
   "metadata": {},
   "outputs": [
    {
     "output_type": "execute_result",
     "data": {
      "text/plain": "1/((s + 1)*(s + 3))",
      "text/latex": "$\\displaystyle \\frac{1}{\\left(s + 1\\right) \\left(s + 3\\right)}$"
     },
     "metadata": {},
     "execution_count": 6
    }
   ],
   "source": [
    "# Tworzymy rownanie\n",
    "eq = 1/((s+1)*(s+3))\n",
    "eq"
   ]
  },
  {
   "cell_type": "code",
   "execution_count": 7,
   "metadata": {},
   "outputs": [
    {
     "output_type": "execute_result",
     "data": {
      "text/plain": "Eq(K, 1/((s + 1)*(s + 3)))",
      "text/latex": "$\\displaystyle K = \\frac{1}{\\left(s + 1\\right) \\left(s + 3\\right)}$"
     },
     "metadata": {},
     "execution_count": 7
    }
   ],
   "source": [
    "sp.Eq(K, eq)"
   ]
  },
  {
   "cell_type": "code",
   "execution_count": 8,
   "metadata": {},
   "outputs": [
    {
     "output_type": "execute_result",
     "data": {
      "text/plain": "Eq(K*(s + 1)*(s + 3), 1)",
      "text/latex": "$\\displaystyle K \\left(s + 1\\right) \\left(s + 3\\right) = 1$"
     },
     "metadata": {},
     "execution_count": 8
    }
   ],
   "source": [
    "sp.Eq(K*((s+1)*(s+3)), eq*((s+1)*(s+3)))"
   ]
  },
  {
   "cell_type": "code",
   "execution_count": 10,
   "metadata": {},
   "outputs": [
    {
     "output_type": "execute_result",
     "data": {
      "text/plain": "Eq(K*s**2 + 4*K*s + 3*K, 1)",
      "text/latex": "$\\displaystyle K s^{2} + 4 K s + 3 K = 1$"
     },
     "metadata": {},
     "execution_count": 10
    }
   ],
   "source": [
    "a = sp.expand(sp.Eq(K*((s+1)*(s+3)), eq*((s+1)*(s+3))))\n",
    "a"
   ]
  },
  {
   "cell_type": "code",
   "execution_count": 22,
   "metadata": {},
   "outputs": [
    {
     "output_type": "execute_result",
     "data": {
      "text/plain": "s**2 + 4*s + 3",
      "text/latex": "$\\displaystyle s^{2} + 4 s + 3$"
     },
     "metadata": {},
     "execution_count": 22
    }
   ],
   "source": [
    "b = a.lhs.replace(K, 1)\n",
    "b"
   ]
  },
  {
   "cell_type": "code",
   "execution_count": 24,
   "metadata": {},
   "outputs": [
    {
     "output_type": "execute_result",
     "data": {
      "text/plain": "4*InverseLaplaceTransform(s, s, t, _None) + InverseLaplaceTransform(s**2, s, t, _None) + 3*DiracDelta(t)",
      "text/latex": "$\\displaystyle 4 \\mathcal{L}^{-1}_{s}\\left[s\\right]\\left(t\\right) + \\mathcal{L}^{-1}_{s}\\left[s^{2}\\right]\\left(t\\right) + 3 \\delta\\left(t\\right)$"
     },
     "metadata": {},
     "execution_count": 24
    }
   ],
   "source": [
    "sp.inverse_laplace_transform(b, s, t)"
   ]
  },
  {
   "cell_type": "code",
   "execution_count": 30,
   "metadata": {},
   "outputs": [
    {
     "output_type": "execute_result",
     "data": {
      "text/plain": "s**2 + 4*s + 3",
      "text/latex": "$\\displaystyle s^{2} + 4 s + 3$"
     },
     "metadata": {},
     "execution_count": 30
    }
   ],
   "source": [
    "b.subs(s, \"y'\")"
   ]
  },
  {
   "cell_type": "code",
   "execution_count": null,
   "metadata": {},
   "outputs": [],
   "source": []
  },
  {
   "cell_type": "code",
   "execution_count": null,
   "metadata": {},
   "outputs": [],
   "source": []
  }
 ],
 "metadata": {
  "language_info": {
   "codemirror_mode": {
    "name": "ipython",
    "version": 3
   },
   "file_extension": ".py",
   "mimetype": "text/x-python",
   "name": "python",
   "nbconvert_exporter": "python",
   "pygments_lexer": "ipython3",
   "version": "3.7.4-final"
  },
  "orig_nbformat": 2,
  "kernelspec": {
   "name": "python37464bitbaseconda329b25ce2e68402abefcc2fc1b0eaddf",
   "display_name": "Python 3.7.4 64-bit ('base': conda)"
  }
 },
 "nbformat": 4,
 "nbformat_minor": 2
}