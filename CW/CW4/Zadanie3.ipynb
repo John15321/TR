{
 "cells": [
  {
   "cell_type": "code",
   "execution_count": 37,
   "metadata": {},
   "outputs": [],
   "source": [
    "# Biblioteka SymPy\n",
    "import sympy as sp\n",
    "'''\n",
    "Dodatkowo importujemy osobno skok Heaviside'a poniewaz\n",
    "funkcja jest zaimplementowana w sposob taki, aby\n",
    "byc jak dopasowywana do uzytkownika tak wiec\n",
    "musimy sami wybrac jej wartosc poczatkowa w tym wlasnie celu ja importujemy\n",
    "'''\n",
    "from sympy import Heaviside\n",
    "# NumPy uzywanany do numerycznych operacji matematycznych\n",
    "import numpy as np\n",
    "# Matplotlib sluzacy do wizualizacji\n",
    "import matplotlib.pyplot as plt\n",
    "from sympy.printing.latex import print_latex\n",
    "# from sympy import init_printing\n",
    "# init_printing() "
   ]
  },
  {
   "cell_type": "markdown",
   "metadata": {},
   "source": [
    "# a)"
   ]
  },
  {
   "cell_type": "code",
   "execution_count": 2,
   "metadata": {},
   "outputs": [],
   "source": [
    "# Definiujemy obiekty biblioteki SymPy\n",
    "t, y, s = sp.symbols('t y s')"
   ]
  },
  {
   "cell_type": "code",
   "execution_count": 3,
   "metadata": {},
   "outputs": [
    {
     "output_type": "execute_result",
     "data": {
      "text/plain": "1/(s**2 + s)",
      "text/latex": "$\\displaystyle \\frac{1}{s^{2} + s}$"
     },
     "metadata": {},
     "execution_count": 3
    }
   ],
   "source": [
    "# Tworzymy rownanie\n",
    "Ys_a = 1/(s**2+s)\n",
    "Ys_a"
   ]
  },
  {
   "cell_type": "code",
   "execution_count": 4,
   "metadata": {},
   "outputs": [
    {
     "output_type": "execute_result",
     "data": {
      "text/plain": "-1/(s + 1) + 1/s",
      "text/latex": "$\\displaystyle - \\frac{1}{s + 1} + \\frac{1}{s}$"
     },
     "metadata": {},
     "execution_count": 4
    }
   ],
   "source": [
    "Ys_a = Ys_a.apart()\n",
    "Ys_a"
   ]
  },
  {
   "cell_type": "code",
   "execution_count": 5,
   "metadata": {},
   "outputs": [
    {
     "output_type": "stream",
     "name": "stdout",
     "text": "y(t)=\n"
    },
    {
     "output_type": "execute_result",
     "data": {
      "text/plain": "1 - exp(-t)",
      "text/latex": "$\\displaystyle 1 - e^{- t}$"
     },
     "metadata": {},
     "execution_count": 5
    }
   ],
   "source": [
    "y_a = sp.expand(sp.inverse_laplace_transform(Ys_a.apart(), s, t))\n",
    "# Nadajemy skokowi Heaviside'a wartosc 1\n",
    "y_a = y_a.replace(Heaviside(t), 1)\n",
    "print(\"y(t)=\")\n",
    "y_a"
   ]
  },
  {
   "cell_type": "code",
   "execution_count": 17,
   "metadata": {},
   "outputs": [
    {
     "output_type": "stream",
     "name": "stdout",
     "text": "y'(t)=\n"
    },
    {
     "output_type": "execute_result",
     "data": {
      "text/plain": "exp(-t)",
      "text/latex": "$\\displaystyle e^{- t}$"
     },
     "metadata": {},
     "execution_count": 17
    }
   ],
   "source": [
    "print(\"y'(t)=\")\n",
    "y_a_p = y_a.diff(t)\n",
    "y_a_p"
   ]
  },
  {
   "cell_type": "code",
   "execution_count": 18,
   "metadata": {},
   "outputs": [
    {
     "output_type": "stream",
     "name": "stdout",
     "text": "y''(t)=\n"
    },
    {
     "output_type": "execute_result",
     "data": {
      "text/plain": "-exp(-t)",
      "text/latex": "$\\displaystyle - e^{- t}$"
     },
     "metadata": {},
     "execution_count": 18
    }
   ],
   "source": [
    "print(\"y''(t)=\")\n",
    "y_a_p_p = y_a_p.diff(t)\n",
    "y_a_p_p"
   ]
  },
  {
   "cell_type": "code",
   "execution_count": 28,
   "metadata": {},
   "outputs": [
    {
     "output_type": "stream",
     "name": "stdout",
     "text": "y_0(t)=\n"
    },
    {
     "output_type": "execute_result",
     "data": {
      "text/plain": "0",
      "text/latex": "$\\displaystyle 0$"
     },
     "metadata": {},
     "execution_count": 28
    }
   ],
   "source": [
    "y_a_0 = y_a.subs(t, 0)\n",
    "print(\"y_0(t)=\")\n",
    "y_a_0"
   ]
  },
  {
   "cell_type": "code",
   "execution_count": 29,
   "metadata": {},
   "outputs": [
    {
     "output_type": "stream",
     "name": "stdout",
     "text": "y'_0(t)=\n"
    },
    {
     "output_type": "execute_result",
     "data": {
      "text/plain": "1",
      "text/latex": "$\\displaystyle 1$"
     },
     "metadata": {},
     "execution_count": 29
    }
   ],
   "source": [
    "y_a_p_0 = y_a_p.subs(t, 0)\n",
    "print(\"y'_0(t)=\")\n",
    "y_a_p_0"
   ]
  },
  {
   "cell_type": "markdown",
   "metadata": {},
   "source": [
    "# b)"
   ]
  },
  {
   "cell_type": "code",
   "execution_count": 21,
   "metadata": {},
   "outputs": [
    {
     "output_type": "execute_result",
     "data": {
      "text/plain": "1/((s + 1)*(s**2 + 1))",
      "text/latex": "$\\displaystyle \\frac{1}{\\left(s + 1\\right) \\left(s^{2} + 1\\right)}$"
     },
     "metadata": {},
     "execution_count": 21
    }
   ],
   "source": [
    "Ys_b = 1/((s**2 +1)*(s+1))\n",
    "Ys_b"
   ]
  },
  {
   "cell_type": "code",
   "execution_count": 22,
   "metadata": {},
   "outputs": [
    {
     "output_type": "execute_result",
     "data": {
      "text/plain": "-(s - 1)/(2*(s**2 + 1)) + 1/(2*(s + 1))",
      "text/latex": "$\\displaystyle - \\frac{s - 1}{2 \\left(s^{2} + 1\\right)} + \\frac{1}{2 \\left(s + 1\\right)}$"
     },
     "metadata": {},
     "execution_count": 22
    }
   ],
   "source": [
    "Ys_b = Ys_b.apart()\n",
    "Ys_b"
   ]
  },
  {
   "cell_type": "code",
   "execution_count": 23,
   "metadata": {},
   "outputs": [
    {
     "output_type": "stream",
     "name": "stdout",
     "text": "y(t)=\n"
    },
    {
     "output_type": "execute_result",
     "data": {
      "text/plain": "sin(t)/2 - cos(t)/2 + exp(-t)/2",
      "text/latex": "$\\displaystyle \\frac{\\sin{\\left(t \\right)}}{2} - \\frac{\\cos{\\left(t \\right)}}{2} + \\frac{e^{- t}}{2}$"
     },
     "metadata": {},
     "execution_count": 23
    }
   ],
   "source": [
    "y_b = sp.expand(sp.inverse_laplace_transform(Ys_b.apart(), s, t))\n",
    "# Nadajemy skokowi Heaviside'a wartosc 1\n",
    "y_b = y_b.replace(Heaviside(t), 1)\n",
    "print(\"y(t)=\")\n",
    "y_b"
   ]
  },
  {
   "cell_type": "code",
   "execution_count": 24,
   "metadata": {},
   "outputs": [
    {
     "output_type": "stream",
     "name": "stdout",
     "text": "y'(t)=\n"
    },
    {
     "output_type": "execute_result",
     "data": {
      "text/plain": "sin(t)/2 + cos(t)/2 - exp(-t)/2",
      "text/latex": "$\\displaystyle \\frac{\\sin{\\left(t \\right)}}{2} + \\frac{\\cos{\\left(t \\right)}}{2} - \\frac{e^{- t}}{2}$"
     },
     "metadata": {},
     "execution_count": 24
    }
   ],
   "source": [
    "y_b_p = y_b.diff(t)\n",
    "print(\"y'(t)=\")\n",
    "y_b_p"
   ]
  },
  {
   "cell_type": "code",
   "execution_count": 25,
   "metadata": {},
   "outputs": [
    {
     "output_type": "stream",
     "name": "stdout",
     "text": "y''(t)=\n"
    },
    {
     "output_type": "execute_result",
     "data": {
      "text/plain": "-sin(t)/2 + cos(t)/2 + exp(-t)/2",
      "text/latex": "$\\displaystyle - \\frac{\\sin{\\left(t \\right)}}{2} + \\frac{\\cos{\\left(t \\right)}}{2} + \\frac{e^{- t}}{2}$"
     },
     "metadata": {},
     "execution_count": 25
    }
   ],
   "source": [
    "y_b_p_p = y_b_p.diff(t)\n",
    "print(\"y''(t)=\")\n",
    "y_b_p_p"
   ]
  },
  {
   "cell_type": "code",
   "execution_count": 30,
   "metadata": {},
   "outputs": [
    {
     "output_type": "stream",
     "name": "stdout",
     "text": "y_0(t)=\n"
    },
    {
     "output_type": "execute_result",
     "data": {
      "text/plain": "0",
      "text/latex": "$\\displaystyle 0$"
     },
     "metadata": {},
     "execution_count": 30
    }
   ],
   "source": [
    "y_b_0 = y_b.subs(t, 0)\n",
    "print(\"y_0(t)=\")\n",
    "y_b_0"
   ]
  },
  {
   "cell_type": "code",
   "execution_count": 31,
   "metadata": {},
   "outputs": [
    {
     "output_type": "stream",
     "name": "stdout",
     "text": "y'_0(t)=\n"
    },
    {
     "output_type": "execute_result",
     "data": {
      "text/plain": "0",
      "text/latex": "$\\displaystyle 0$"
     },
     "metadata": {},
     "execution_count": 31
    }
   ],
   "source": [
    "y_b_p_0 = y_b_p.subs(t, 0)\n",
    "print(\"y'_0(t)=\")\n",
    "y_b_p_0"
   ]
  },
  {
   "cell_type": "markdown",
   "metadata": {},
   "source": [
    "# c)"
   ]
  },
  {
   "cell_type": "code",
   "execution_count": 32,
   "metadata": {},
   "outputs": [
    {
     "output_type": "execute_result",
     "data": {
      "text/plain": "1/((s - 1)*(s + 2))",
      "text/latex": "$\\displaystyle \\frac{1}{\\left(s - 1\\right) \\left(s + 2\\right)}$"
     },
     "metadata": {},
     "execution_count": 32
    }
   ],
   "source": [
    "Ys_c = 1/((s-1)*(s+2))\n",
    "Ys_c"
   ]
  },
  {
   "cell_type": "code",
   "execution_count": 34,
   "metadata": {},
   "outputs": [
    {
     "output_type": "execute_result",
     "data": {
      "text/plain": "-1/(3*(s + 2)) + 1/(3*(s - 1))",
      "text/latex": "$\\displaystyle - \\frac{1}{3 \\left(s + 2\\right)} + \\frac{1}{3 \\left(s - 1\\right)}$"
     },
     "metadata": {},
     "execution_count": 34
    }
   ],
   "source": [
    "Ys_c = Ys_c.apart()\n",
    "Ys_c"
   ]
  },
  {
   "cell_type": "code",
   "execution_count": 35,
   "metadata": {},
   "outputs": [
    {
     "output_type": "stream",
     "name": "stdout",
     "text": "y(t)=\n"
    },
    {
     "output_type": "execute_result",
     "data": {
      "text/plain": "exp(t)/3 - exp(-2*t)/3",
      "text/latex": "$\\displaystyle \\frac{e^{t}}{3} - \\frac{e^{- 2 t}}{3}$"
     },
     "metadata": {},
     "execution_count": 35
    }
   ],
   "source": [
    "y_c = sp.expand(sp.inverse_laplace_transform(Ys_c.apart(), s, t))\n",
    "# Nadajemy skokowi Heaviside'a wartosc 1\n",
    "y_c = y_c.replace(Heaviside(t), 1)\n",
    "print(\"y(t)=\")\n",
    "y_c"
   ]
  },
  {
   "cell_type": "code",
   "execution_count": 43,
   "metadata": {},
   "outputs": [
    {
     "output_type": "stream",
     "name": "stdout",
     "text": "y'(t)=\n"
    },
    {
     "output_type": "execute_result",
     "data": {
      "text/plain": "exp(t)/3 + 2*exp(-2*t)/3",
      "text/latex": "$\\displaystyle \\frac{e^{t}}{3} + \\frac{2 e^{- 2 t}}{3}$"
     },
     "metadata": {},
     "execution_count": 43
    }
   ],
   "source": [
    "y_c_p = y_c.diff(t)\n",
    "print(\"y'(t)=\")\n",
    "y_c_p"
   ]
  },
  {
   "cell_type": "code",
   "execution_count": 44,
   "metadata": {},
   "outputs": [
    {
     "output_type": "stream",
     "name": "stdout",
     "text": "y''(t)=\n"
    },
    {
     "output_type": "execute_result",
     "data": {
      "text/plain": "exp(t)/3 - 4*exp(-2*t)/3",
      "text/latex": "$\\displaystyle \\frac{e^{t}}{3} - \\frac{4 e^{- 2 t}}{3}$"
     },
     "metadata": {},
     "execution_count": 44
    }
   ],
   "source": [
    "y_c_p_p = y_c_p.diff(t)\n",
    "print(\"y''(t)=\")\n",
    "y_c_p_p"
   ]
  },
  {
   "cell_type": "code",
   "execution_count": 45,
   "metadata": {},
   "outputs": [
    {
     "output_type": "stream",
     "name": "stdout",
     "text": "y_0(t)=\n"
    },
    {
     "output_type": "execute_result",
     "data": {
      "text/plain": "0",
      "text/latex": "$\\displaystyle 0$"
     },
     "metadata": {},
     "execution_count": 45
    }
   ],
   "source": [
    "y_c_0 = y_c.subs(t, 0)\n",
    "print(\"y_0(t)=\")\n",
    "y_c_0"
   ]
  },
  {
   "cell_type": "code",
   "execution_count": 47,
   "metadata": {},
   "outputs": [
    {
     "output_type": "stream",
     "name": "stdout",
     "text": "y''(t)=\n"
    },
    {
     "output_type": "execute_result",
     "data": {
      "text/plain": "exp(t)/3 - 4*exp(-2*t)/3",
      "text/latex": "$\\displaystyle \\frac{e^{t}}{3} - \\frac{4 e^{- 2 t}}{3}$"
     },
     "metadata": {},
     "execution_count": 47
    }
   ],
   "source": [
    "y_c_p_p = y_c_p.diff(t)\n",
    "print(\"y''(t)=\")\n",
    "y_c_p_p"
   ]
  },
  {
   "cell_type": "code",
   "execution_count": 49,
   "metadata": {},
   "outputs": [
    {
     "output_type": "stream",
     "name": "stdout",
     "text": "y''(0)=\n"
    },
    {
     "output_type": "execute_result",
     "data": {
      "text/plain": "-1",
      "text/latex": "$\\displaystyle -1$"
     },
     "metadata": {},
     "execution_count": 49
    }
   ],
   "source": [
    "y_c_p_p_0 = y_c_p_p.subs(t, 0)\n",
    "print(\"y''(0)=\")\n",
    "y_c_p_p_0"
   ]
  },
  {
   "cell_type": "code",
   "execution_count": 50,
   "metadata": {},
   "outputs": [
    {
     "output_type": "stream",
     "name": "stdout",
     "text": "y'''(t)=\n"
    },
    {
     "output_type": "execute_result",
     "data": {
      "text/plain": "exp(t)/3 + 8*exp(-2*t)/3",
      "text/latex": "$\\displaystyle \\frac{e^{t}}{3} + \\frac{8 e^{- 2 t}}{3}$"
     },
     "metadata": {},
     "execution_count": 50
    }
   ],
   "source": [
    "y_c_p_p_p = y_c_p_p.diff(t)\n",
    "print(\"y'''(t)=\")\n",
    "y_c_p_p_p"
   ]
  },
  {
   "cell_type": "code",
   "execution_count": 51,
   "metadata": {},
   "outputs": [
    {
     "output_type": "stream",
     "name": "stdout",
     "text": "y''(0)=\n"
    },
    {
     "output_type": "execute_result",
     "data": {
      "text/plain": "3",
      "text/latex": "$\\displaystyle 3$"
     },
     "metadata": {},
     "execution_count": 51
    }
   ],
   "source": [
    "y_c_p_p_p_0 = y_c_p_p_p.subs(t, 0)\n",
    "print(\"y''(0)=\")\n",
    "y_c_p_p_p_0"
   ]
  },
  {
   "cell_type": "code",
   "execution_count": null,
   "metadata": {},
   "outputs": [],
   "source": []
  }
 ],
 "metadata": {
  "kernelspec": {
   "display_name": "Python 3",
   "language": "python",
   "name": "python3"
  },
  "language_info": {
   "codemirror_mode": {
    "name": "ipython",
    "version": 3
   },
   "file_extension": ".py",
   "mimetype": "text/x-python",
   "name": "python",
   "nbconvert_exporter": "python",
   "pygments_lexer": "ipython3",
   "version": "3.7.4-final"
  }
 },
 "nbformat": 4,
 "nbformat_minor": 2
}