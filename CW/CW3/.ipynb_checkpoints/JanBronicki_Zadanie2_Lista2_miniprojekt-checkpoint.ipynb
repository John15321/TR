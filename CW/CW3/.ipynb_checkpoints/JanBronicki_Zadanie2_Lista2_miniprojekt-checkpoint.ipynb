{
 "cells": [
  {
   "cell_type": "markdown",
   "metadata": {},
   "source": [
    "<center><h1>Teoria Regulacji, Wtorek 17:05-18:45</h1></center> \n",
    "\n",
    "<center><h2>Jan Bronicki 249011</h2></center> \n",
    "\n",
    " "
   ]
  },
  {
   "cell_type": "markdown",
   "metadata": {},
   "source": [
    "### Zadanie 2 z Listy 2 (\"mini-projekt\")"
   ]
  },
  {
   "cell_type": "markdown",
   "metadata": {},
   "source": [
    "Dla systemu o następującej transmitancji: \n",
    "$$ K(s) = \\frac{1}{(s+1)(s+2)} $$\n",
    "Należy  wyznaczyć pobudzienie na wejście:   \n",
    "\n",
    "$u(t) = 1(t)$  \n",
    "\n",
    "Z następującymi warunkami początkowymi:  \n",
    "\n",
    "$y(0)=1$  \n",
    "$y^{\\prime}(0)=2$  \n",
    "\n",
    "System dodatkowo można przedstawić graficznie za pomocą schematu blokowego jako:  \n",
    "![image](./diagram.png)"
   ]
  },
  {
   "cell_type": "markdown",
   "metadata": {},
   "source": [
    "Na początku wiedząc, że $Y(s) = K(s) \\cdot U(s)$ obliczamy $y_{1}(t)$:  \n",
    "Gdzie za $U(s)$ podstawiamy to, czemu równałoby się $u(t)$ po transformacie Laplace'a:  \n",
    "\n",
    "$$ Y(s) = \\frac{1}{(s+1)(s+2)} \\cdot \\frac{1}{s}  $$\n",
    "\n",
    "$$ Y(s) = \\frac{A}{s} + \\frac{B}{s+1} + \\frac{C}{s+2}  $$\n",
    "\n",
    "\\begin{cases}\n",
    "            A=\\frac{1}{2}\n",
    "            \\\\\n",
    "            B=-1\n",
    "            \\\\\n",
    "            C=\\frac{1}{2}\n",
    "\\end{cases}\n",
    "\n",
    "$$ Y(s) = \\frac{\\frac{1}{2}}{s} + \\frac{-1}{s+1} + \\frac{\\frac{1}{2}}{s+2}  $$\n",
    "\n",
    "Następnie stosująć wzory na odwrotną transformatę Laplace'a, uzyskujemy wynik w dziedzinie czasu:  \n",
    "\n",
    "$$ y_{1}(t) = \\frac{1}{2}e^{-2t} - e^{-t} + \\frac{1}{2} $$"
   ]
  },
  {
   "cell_type": "markdown",
   "metadata": {},
   "source": [
    "#### Możemy to osiągnąć również stosując bibliotekę taką jak SymPy umożliwiającą, nam używanie zapisów symbolicznych w Python'ie"
   ]
  },
  {
   "cell_type": "code",
   "execution_count": 1,
   "metadata": {},
   "outputs": [],
   "source": [
    "# Biblioteka SymPy\n",
    "import sympy as sp\n",
    "# NumPy używanamy do numerycznych operacji matematycznych\n",
    "import numpy as np\n",
    "# Matplotlib służy do wizualizacji\n",
    "import matplotlib.pyplot as plt"
   ]
  },
  {
   "cell_type": "code",
   "execution_count": 2,
   "metadata": {},
   "outputs": [
    {
     "data": {
      "text/latex": [
       "$\\displaystyle \\frac{1}{s \\left(s + 1\\right) \\left(s + 2\\right)}$"
      ],
      "text/plain": [
       "1/(s*(s + 1)*(s + 2))"
      ]
     },
     "execution_count": 2,
     "metadata": {},
     "output_type": "execute_result"
    }
   ],
   "source": [
    "# Definiujemy obiekty biblioteki SymPy\n",
    "t, y, s = sp.symbols('t y s')\n",
    "# Tworzymy rownanie\n",
    "Ys = 1/(s*(s+1)*(s+2))\n",
    "Ys"
   ]
  },
  {
   "cell_type": "markdown",
   "metadata": {},
   "source": [
    "Następnie dokonujemy rozbicia:"
   ]
  },
  {
   "cell_type": "code",
   "execution_count": 3,
   "metadata": {},
   "outputs": [
    {
     "data": {
      "text/latex": [
       "$\\displaystyle \\frac{1}{2 \\left(s + 2\\right)} - \\frac{1}{s + 1} + \\frac{1}{2 s}$"
      ],
      "text/plain": [
       "1/(2*(s + 2)) - 1/(s + 1) + 1/(2*s)"
      ]
     },
     "execution_count": 3,
     "metadata": {},
     "output_type": "execute_result"
    }
   ],
   "source": [
    "Ys.apart()"
   ]
  },
  {
   "cell_type": "code",
   "execution_count": 4,
   "metadata": {},
   "outputs": [
    {
     "data": {
      "text/latex": [
       "$\\displaystyle \\frac{\\theta\\left(t\\right)}{2} - e^{- t} \\theta\\left(t\\right) + \\frac{e^{- 2 t} \\theta\\left(t\\right)}{2}$"
      ],
      "text/plain": [
       "Heaviside(t)/2 - exp(-t)*Heaviside(t) + exp(-2*t)*Heaviside(t)/2"
      ]
     },
     "execution_count": 4,
     "metadata": {},
     "output_type": "execute_result"
    }
   ],
   "source": [
    "y1 = sp.expand(sp.inverse_laplace_transform(Ys.apart(), s, t))\n",
    "y1\n",
    "# theta(t) to 1(t) w bibliotece SymPy"
   ]
  },
  {
   "cell_type": "markdown",
   "metadata": {},
   "source": [
    "Teraz możemy narysować rozwiązanie $y_{1}(t)$:"
   ]
  },
  {
   "cell_type": "code",
   "execution_count": 5,
   "metadata": {},
   "outputs": [],
   "source": [
    "'''\n",
    "\"time\" bedzie nasza osia czasu,\n",
    "a y1_time odpowiedza jaka dostaniemy w konkretnym punkcie czasu\n",
    "'''\n",
    "time = np.arange(0, 10, 0.01)\n",
    "y1_time = np.arange(0, 10, 0.01)\n",
    "\n",
    "y1_lambda = sp.lambdify(t, y1, modules=['numpy', 'sympy'])\n",
    "\n",
    "for each in range(0, len(time)):\n",
    "    y1_time[each] = y1_lambda(time[each])"
   ]
  },
  {
   "cell_type": "markdown",
   "metadata": {},
   "source": [
    "Teraz możemy narysować wynik rozwiązania numerycznego poprzez, zamienienie równania symbolicznego biblioteki SymPy na funkcję (lambdę) w Pythonie z implementacją w NumPy'u dzięki funkcji:\n",
    "```python\n",
    "sympy.utilities.lambdify(symfunc, implementation)\n",
    "```"
   ]
  },
  {
   "cell_type": "code",
   "execution_count": 6,
   "metadata": {},
   "outputs": [
    {
     "data": {
      "image/png": "[encoded data removed]",
      "text/plain": [
       "<Figure size 432x288 with 1 Axes>"
      ]
     },
     "metadata": {
      "needs_background": "light"
     },
     "output_type": "display_data"
    }
   ],
   "source": [
    "plt.plot(time, y1_time, label=(\"$y_{1}(t)$\"))\n",
    "plt.grid(True)\n",
    "plt.title(\"Odpowiedz \"+\"$\"+\"y_{1}(t) = \"+sp.latex(y1)+\"$\")\n",
    "plt.xlabel(\"Czas[s]\")\n",
    "plt.ylabel(\"Amplituda\")\n",
    "plt.legend()\n",
    "plt.show()"
   ]
  },
  {
   "cell_type": "markdown",
   "metadata": {},
   "source": [
    "#### Następnie na podstawie równania charakterystycznego $(s+1)(s+2)$ możemy dojść do oryginalnego równania różniczkowego:  \n",
    "$$Y(s) = \\frac{1}{(s+1)(s+2)} \\cdot \\frac{1}{s}$$\n",
    "\n",
    "$$ Y(s)\\left[s^{2}+3s+2\\right] = \\frac{1}{s}$$\n",
    "\n",
    "$$ y^{\\prime\\prime}+3y^{\\prime}+2y=u(t) $$\n",
    "\n",
    "$$ s^{2}Y(s)-sy(0)-y^{\\prime}+3sY(s)-3y(0)+2Y(s) = 0 $$  \n",
    "  \n",
    "<center>gdzie $y(0)=1$ oraz $y^{\\prime}(0)=2 $</center>\n",
    "\n",
    "$$ Y(s) = \\frac{s+5}{s^{2}+3s+2} $$\n",
    "\n",
    "$$ Y(s) = \\frac{s+5}{(s+2)(s+1)} $$\n",
    "\n",
    "$$ Y(s) = \\frac{A}{s+1}+\\frac{B}{s+2} $$\n",
    "\n",
    "\\begin{cases}\n",
    "            A=4\n",
    "            \\\\\n",
    "            B=-3\n",
    "\\end{cases}\n",
    "\n",
    "$$ Y(s) = \\frac{4}{s+1}+\\frac{-3}{s+2} $$\n",
    "\n",
    "Następnie stosujemy odwrotną transformatę Laplace'a:  \n",
    "\n",
    "$$ y_{2}(t) = 4e^{-t}-3e^{-2t} $$"
   ]
  },
  {
   "cell_type": "markdown",
   "metadata": {},
   "source": [
    "#### Następnie tak samo możemy postąpić w tym przypadku, używając możliwości symbolicznych obliczeń jakie daje nam Python "
   ]
  },
  {
   "cell_type": "code",
   "execution_count": 7,
   "metadata": {},
   "outputs": [
    {
     "data": {
      "text/latex": [
       "$\\displaystyle \\frac{s + 5}{s^{2} + 3 s + 2}$"
      ],
      "text/plain": [
       "(s + 5)/(s**2 + 3*s + 2)"
      ]
     },
     "execution_count": 7,
     "metadata": {},
     "output_type": "execute_result"
    }
   ],
   "source": [
    "Ys = (s+5)/((s**2)+3*s+2)\n",
    "Ys"
   ]
  },
  {
   "cell_type": "code",
   "execution_count": 8,
   "metadata": {},
   "outputs": [
    {
     "data": {
      "text/latex": [
       "$\\displaystyle \\frac{s + 5}{\\left(s + 1\\right) \\left(s + 2\\right)}$"
      ],
      "text/plain": [
       "(s + 5)/((s + 1)*(s + 2))"
      ]
     },
     "execution_count": 8,
     "metadata": {},
     "output_type": "execute_result"
    }
   ],
   "source": [
    "Ys.factor()"
   ]
  },
  {
   "cell_type": "code",
   "execution_count": 9,
   "metadata": {},
   "outputs": [
    {
     "data": {
      "text/latex": [
       "$\\displaystyle - \\frac{3}{s + 2} + \\frac{4}{s + 1}$"
      ],
      "text/plain": [
       "-3/(s + 2) + 4/(s + 1)"
      ]
     },
     "execution_count": 9,
     "metadata": {},
     "output_type": "execute_result"
    }
   ],
   "source": [
    "Ys.apart()"
   ]
  },
  {
   "cell_type": "code",
   "execution_count": 10,
   "metadata": {},
   "outputs": [
    {
     "data": {
      "text/latex": [
       "$\\displaystyle 4 e^{- t} \\theta\\left(t\\right) - 3 e^{- 2 t} \\theta\\left(t\\right)$"
      ],
      "text/plain": [
       "4*exp(-t)*Heaviside(t) - 3*exp(-2*t)*Heaviside(t)"
      ]
     },
     "execution_count": 10,
     "metadata": {},
     "output_type": "execute_result"
    }
   ],
   "source": [
    "y2 = sp.expand(sp.inverse_laplace_transform(Ys.apart(), s, t))\n",
    "y2"
   ]
  },
  {
   "cell_type": "markdown",
   "metadata": {},
   "source": [
    "Teraz zamieniamy postać symboliczną na funkcję z, której uzyskamy wartości numeryczne:"
   ]
  },
  {
   "cell_type": "code",
   "execution_count": 11,
   "metadata": {},
   "outputs": [],
   "source": [
    "'''\n",
    "\"time\" bedzie nasza osia czasu,\n",
    "a y2_time odpowiedza jaka dostaniemy w konkretnym punkcie czasu\n",
    "'''\n",
    "time = np.arange(0, 10, 0.01)\n",
    "y2_time = np.arange(0, 10, 0.01)\n",
    "\n",
    "y2_lambda = sp.lambdify(t, y2, modules=['numpy', 'sympy'])\n",
    "\n",
    "'''\n",
    "Z powodu implementacji Heaviside w SymPy'u obecna funkcja nie bedzie mogla zostac wyliczona, \n",
    "dla 0, dlatego wpisujemy jej wartosc, dla 0 reczne\n",
    "'''\n",
    "y2_time[0] = 1.0\n",
    "for each in range(1, len(time)):\n",
    "    y2_time[each] = y2_lambda(time[each])"
   ]
  },
  {
   "cell_type": "code",
   "execution_count": 12,
   "metadata": {},
   "outputs": [
    {
     "data": {
      "image/png": "[encoded data removed]",
      "text/plain": [
       "<Figure size 432x288 with 1 Axes>"
      ]
     },
     "metadata": {
      "needs_background": "light"
     },
     "output_type": "display_data"
    }
   ],
   "source": [
    "plt.plot(time, y2_time, label=(\"$y_{2}(t)$\"))\n",
    "plt.grid(True)\n",
    "plt.title(\"Odpowiedz \"+\"$\"+\"y_{2}(t) = \"+sp.latex(y2)+\"$\")\n",
    "plt.xlabel(\"Czas[s]\")\n",
    "plt.ylabel(\"Amplituda\")\n",
    "plt.legend()\n",
    "plt.show()"
   ]
  },
  {
   "cell_type": "markdown",
   "metadata": {},
   "source": [
    "#### Teraz możemy końcowo dodać nasze dwie otrzymane funkcje $y_{1}(t)$ oraz $y_{2}(t)$:\n",
    "\n",
    "$$ y(t) = y_{1}(t) + y_{2}(t) = 3e^{-t} - \\frac{5}{2}e^{-2t} + \\frac{1}{2} $$"
   ]
  },
  {
   "cell_type": "markdown",
   "metadata": {},
   "source": [
    "Następnie rysujemy otrzymane $y(t)$ wraz z $y_{1}(t) + y_{2}(t)$, dla porównania:"
   ]
  },
  {
   "cell_type": "code",
   "execution_count": 13,
   "metadata": {},
   "outputs": [
    {
     "data": {
      "text/latex": [
       "$\\displaystyle \\frac{\\theta\\left(t\\right)}{2} + 3 e^{- t} \\theta\\left(t\\right) - \\frac{5 e^{- 2 t} \\theta\\left(t\\right)}{2}$"
      ],
      "text/plain": [
       "Heaviside(t)/2 + 3*exp(-t)*Heaviside(t) - 5*exp(-2*t)*Heaviside(t)/2"
      ]
     },
     "execution_count": 13,
     "metadata": {},
     "output_type": "execute_result"
    }
   ],
   "source": [
    "y = y1+y2\n",
    "y"
   ]
  },
  {
   "cell_type": "code",
   "execution_count": 14,
   "metadata": {},
   "outputs": [
    {
     "data": {
      "image/png": "[encoded data removed]",
      "text/plain": [
       "<Figure size 432x288 with 1 Axes>"
      ]
     },
     "metadata": {
      "needs_background": "light"
     },
     "output_type": "display_data"
    }
   ],
   "source": [
    "# y1(t)\n",
    "plt.plot(time, y1_time, label=(\"$y_{1}(t)$\"))\n",
    "\n",
    "# y2(t)\n",
    "plt.plot(time, y2_time, label=(\"$y_{2}(t)$\"))\n",
    "\n",
    "plt.plot(time, y1_time+y2_time, label=(\"$y(t)=y_{1}(t)+y_{2}(t)$\"))\n",
    "plt.grid(True)\n",
    "plt.title(\"Odpowiedz \"+\"$\"+\"y_{1}(t), y_{2}(t), y(t)\"+\"$\")\n",
    "plt.xlabel(\"Czas[s]\")\n",
    "plt.ylabel(\"Amplituda\")\n",
    "plt.legend()\n",
    "plt.show()"
   ]
  },
  {
   "cell_type": "markdown",
   "metadata": {},
   "source": []
  },
  {
   "cell_type": "code",
   "execution_count": null,
   "metadata": {},
   "outputs": [],
   "source": []
  },
  {
   "cell_type": "code",
   "execution_count": null,
   "metadata": {},
   "outputs": [],
   "source": []
  },
  {
   "cell_type": "code",
   "execution_count": null,
   "metadata": {},
   "outputs": [],
   "source": []
  },
  {
   "cell_type": "markdown",
   "metadata": {},
   "source": []
  },
  {
   "cell_type": "code",
   "execution_count": null,
   "metadata": {},
   "outputs": [],
   "source": []
  },
  {
   "cell_type": "code",
   "execution_count": null,
   "metadata": {
    "scrolled": true
   },
   "outputs": [],
   "source": []
  },
  {
   "cell_type": "code",
   "execution_count": null,
   "metadata": {},
   "outputs": [],
   "source": []
  },
  {
   "cell_type": "code",
   "execution_count": null,
   "metadata": {
    "slideshow": {
     "slide_type": "-"
    }
   },
   "outputs": [],
   "source": []
  },
  {
   "cell_type": "code",
   "execution_count": null,
   "metadata": {},
   "outputs": [],
   "source": []
  },
  {
   "cell_type": "code",
   "execution_count": null,
   "metadata": {},
   "outputs": [],
   "source": []
  },
  {
   "cell_type": "code",
   "execution_count": null,
   "metadata": {},
   "outputs": [],
   "source": []
  }
 ],
 "metadata": {
  "kernelspec": {
   "display_name": "Python 3",
   "language": "python",
   "name": "python3"
  },
  "language_info": {
   "codemirror_mode": {
    "name": "ipython",
    "version": 3
   },
   "file_extension": ".py",
   "mimetype": "text/x-python",
   "name": "python",
   "nbconvert_exporter": "python",
   "pygments_lexer": "ipython3",
   "version": "3.7.4"
  }
 },
 "nbformat": 4,
 "nbformat_minor": 2
}
