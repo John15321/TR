{
 "cells": [
  {
   "cell_type": "markdown",
   "metadata": {},
   "source": [
    "<center><h1>Teoria Regulacji, Wtorek 17:05-18:45</h1></center> \n",
    "\n",
    "<center><h2>Jan Bronicki 249011</h2></center> \n",
    "\n",
    " "
   ]
  },
  {
   "cell_type": "markdown",
   "metadata": {},
   "source": [
    "### Zadanie 2 z Listy 2 (\"mini-projekt\")"
   ]
  },
  {
   "cell_type": "markdown",
   "metadata": {},
   "source": [
    "Dla systemu o następującej transmitancji: \\\\\n",
    "$$ K(s) = \\frac{1}{(s+1)(s+2)} $$\n",
    "Należy  wyznaczyć pobudzienie na wejście:   \n",
    "\n",
    "$u(t) = 1(t)$  \n",
    "\n",
    "Z następującymi warunkami początkowymi:  \n",
    "\n",
    "$y(0)=1$  \n",
    "$y^{\\prime}(0)=2$"
   ]
  },
  {
   "cell_type": "markdown",
   "metadata": {},
   "source": [
    "Na początku wiedząc, że $Y(s) = K(s) \\cdot U(s)$ obliczamy $y_{1}(t)$:  \n",
    "Gdzie za $U(s)$ podstawiamy to czemu równałoby się $u(t)$ po transformacie Laplace'a:  \n",
    "\n",
    "$$ Y(s) = \\frac{1}{(s+1)(s+2)} \\cdot \\frac{1}{s}  $$\n",
    "\n",
    "$$ Y(s) = \\frac{A}{s} + \\frac{B}{s+1} + \\frac{C}{s+2}  $$\n",
    "\n",
    "\\begin{cases}\n",
    "            A=\\frac{1}{2}\n",
    "            \\\\\n",
    "            B=-1\n",
    "            \\\\\n",
    "            C=\\frac{1}{2}\n",
    "\\end{cases}\n",
    "\n",
    "$$ Y(s) = \\frac{\\frac{1}{2}}{s} + \\frac{-1}{s+1} + \\frac{\\frac{1}{2}}{s+2}  $$\n",
    "\n",
    "Następnie stosująć wzory na odwrotną transformatę Laplace'a uzyskujemy wynik w dziedzinie czasu:  \n",
    "\n",
    "$$ y_{1}(t) = \\frac{1}{2}e^{-2t} - e^{-t} + \\frac{1}{2} $$"
   ]
  },
  {
   "cell_type": "markdown",
   "metadata": {},
   "source": [
    "#### Możemy takie coś osiągnąć również stosująć biblioteką taką jak SymPy pozwalającą Nam na używanie zapisów symbolicznych w Python'ie"
   ]
  },
  {
   "cell_type": "code",
   "execution_count": 19,
   "metadata": {},
   "outputs": [],
   "source": [
    "# Biblioteka SymPY\n",
    "import sympy as sp\n",
    "# NumPy używana do numerycznych operacji matematycznych\n",
    "import numpy as np\n",
    "# Matplotlib służąca do wizualizacji\n",
    "import matplotlib.pyplot as plt"
   ]
  },
  {
   "cell_type": "code",
   "execution_count": 21,
   "metadata": {},
   "outputs": [],
   "source": [
    "t, y, s = sp.symbols('t y s')"
   ]
  },
  {
   "cell_type": "code",
   "execution_count": null,
   "metadata": {},
   "outputs": [],
   "source": []
  },
  {
   "cell_type": "code",
   "execution_count": 13,
   "metadata": {},
   "outputs": [
    {
     "data": {
      "text/latex": [
       "$\\displaystyle \\frac{1}{s \\left(s + 1\\right) \\left(s + 2\\right)}$"
      ],
      "text/plain": [
       "1/(s*(s + 1)*(s + 2))"
      ]
     },
     "execution_count": 13,
     "metadata": {},
     "output_type": "execute_result"
    }
   ],
   "source": [
    "Ys = 1/(s*(s+1)*(s+2))\n",
    "Ys"
   ]
  },
  {
   "cell_type": "code",
   "execution_count": 14,
   "metadata": {},
   "outputs": [
    {
     "data": {
      "text/latex": [
       "$\\displaystyle \\frac{1}{2 \\left(s + 2\\right)} - \\frac{1}{s + 1} + \\frac{1}{2 s}$"
      ],
      "text/plain": [
       "1/(2*(s + 2)) - 1/(s + 1) + 1/(2*s)"
      ]
     },
     "execution_count": 14,
     "metadata": {},
     "output_type": "execute_result"
    }
   ],
   "source": [
    "Ys.apart()"
   ]
  },
  {
   "cell_type": "code",
   "execution_count": 18,
   "metadata": {},
   "outputs": [
    {
     "data": {
      "text/latex": [
       "$\\displaystyle \\frac{\\theta\\left(x\\right)}{2} - e^{- x} \\theta\\left(x\\right) + \\frac{e^{- 2 x} \\theta\\left(x\\right)}{2}$"
      ],
      "text/plain": [
       "Heaviside(x)/2 - exp(-x)*Heaviside(x) + exp(-2*x)*Heaviside(x)/2"
      ]
     },
     "execution_count": 18,
     "metadata": {},
     "output_type": "execute_result"
    }
   ],
   "source": [
    "y1 = sp.expand(sp.inverse_laplace_transform(Ys.apart(), s, x))\n",
    "y1"
   ]
  },
  {
   "cell_type": "code",
   "execution_count": null,
   "metadata": {},
   "outputs": [],
   "source": []
  },
  {
   "cell_type": "code",
   "execution_count": null,
   "metadata": {},
   "outputs": [],
   "source": []
  },
  {
   "cell_type": "code",
   "execution_count": 1,
   "metadata": {},
   "outputs": [],
   "source": []
  },
  {
   "cell_type": "code",
   "execution_count": 2,
   "metadata": {},
   "outputs": [],
   "source": []
  },
  {
   "cell_type": "code",
   "execution_count": 10,
   "metadata": {},
   "outputs": [],
   "source": [
    "time = np.arange(0, 5, 0.1)"
   ]
  },
  {
   "cell_type": "code",
   "execution_count": 11,
   "metadata": {},
   "outputs": [
    {
     "data": {
      "text/latex": [
       "$\\displaystyle \\frac{1}{s \\left(s + 2\\right)}$"
      ],
      "text/plain": [
       "1/(s*(s + 2))"
      ]
     },
     "execution_count": 11,
     "metadata": {},
     "output_type": "execute_result"
    }
   ],
   "source": [
    "y = (1)/(s*(s+2))\n",
    "y"
   ]
  },
  {
   "cell_type": "code",
   "execution_count": 12,
   "metadata": {},
   "outputs": [
    {
     "data": {
      "text/latex": [
       "$\\displaystyle \\frac{\\theta\\left(x\\right)}{2} - \\frac{e^{- 2 x} \\theta\\left(x\\right)}{2}$"
      ],
      "text/plain": [
       "Heaviside(x)/2 - exp(-2*x)*Heaviside(x)/2"
      ]
     },
     "execution_count": 12,
     "metadata": {},
     "output_type": "execute_result"
    }
   ],
   "source": [
    "yt = sp.inverse_laplace_transform(y, s, x)\n",
    "yt"
   ]
  },
  {
   "cell_type": "code",
   "execution_count": 13,
   "metadata": {},
   "outputs": [],
   "source": [
    "f = sp.lambdify(x, yt, modules=['numpy', 'sympy'])"
   ]
  },
  {
   "cell_type": "code",
   "execution_count": 14,
   "metadata": {},
   "outputs": [],
   "source": [
    "time = np.arange(0, 5, 0.01)\n",
    "yt_time = np.arange(0, 5, 0.01)\n",
    "\n",
    "for each in range(0, len(time)):\n",
    "    yt_time[each] = f(time[each])"
   ]
  },
  {
   "cell_type": "code",
   "execution_count": 19,
   "metadata": {
    "scrolled": true
   },
   "outputs": [
    {
     "data": {
      "image/png": "[encoded data removed]",
      "text/plain": [
       "<Figure size 432x288 with 1 Axes>"
      ]
     },
     "metadata": {
      "needs_background": "light"
     },
     "output_type": "display_data"
    }
   ],
   "source": [
    "plt.plot(time, yt_time, label=(\"$\"+sp.latex(yt)+\"$\"))\n",
    "plt.grid(True)\n",
    "plt.title(\"Odpowiedz\")\n",
    "plt.xlabel(\"Czas[s]\")\n",
    "plt.ylabel(\"Amplituda\")\n",
    "plt.legend()\n",
    "plt.show()"
   ]
  },
  {
   "cell_type": "code",
   "execution_count": null,
   "metadata": {},
   "outputs": [],
   "source": [
    "5/0.01"
   ]
  },
  {
   "cell_type": "code",
   "execution_count": 25,
   "metadata": {
    "slideshow": {
     "slide_type": "-"
    }
   },
   "outputs": [
    {
     "data": {
      "text/latex": [
       "$\\displaystyle 1 - \\theta\\left(0\\right)$"
      ],
      "text/plain": [
       "1 - Heaviside(0)"
      ]
     },
     "execution_count": 25,
     "metadata": {},
     "output_type": "execute_result"
    }
   ],
   "source": [
    " from sympy.abc import t\n",
    "sp.laplace_transform(sp.DiracDelta(x), x, s)[0]"
   ]
  },
  {
   "cell_type": "code",
   "execution_count": null,
   "metadata": {},
   "outputs": [],
   "source": [
    "y = "
   ]
  }
 ],
 "metadata": {
  "kernelspec": {
   "display_name": "Python 3",
   "language": "python",
   "name": "python3"
  },
  "language_info": {
   "codemirror_mode": {
    "name": "ipython",
    "version": 3
   },
   "file_extension": ".py",
   "mimetype": "text/x-python",
   "name": "python",
   "nbconvert_exporter": "python",
   "pygments_lexer": "ipython3",
   "version": "3.7.4"
  }
 },
 "nbformat": 4,
 "nbformat_minor": 2
}
