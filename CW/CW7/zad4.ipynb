{
 "cells": [
  {
   "cell_type": "code",
   "execution_count": 11,
   "metadata": {},
   "outputs": [],
   "source": [
    "\n",
    "import numpy as np\n",
    "import sympy as sympy\n",
    "import control as co\n",
    "# We tell python to treat \"s\" as a SymPy symbol\n",
    "# We have to make it rational!\n",
    "s = sympy.Symbol('s', rational=True)\n",
    "# An example Transfer function\n",
    "K = (s+3)/(3*s**3 + 2*s**2 + 1*s + 1)\n",
    "'''\n",
    "Here is where it gets dirty.\n",
    "We convert the expression to a Polynomial object in SymPy \n",
    "and then we extract coefficients, but that list of coefficients\n",
    "we will get, will be full of sympy.core.numbers, so\n",
    "it's going to be numbers but sympy's numbers. That's why then we \n",
    "go and each one of them into a float\n",
    "'''\n",
    "# We get the numerator and denomiator\n",
    "num_list, den_list =  [[float(i) for i in sympy.Poly(i, s).all_coeffs()] for i in K.as_numer_denom()];\n",
    "# Now num_list and den_list are simple float lists and we put them into \n",
    "# TransferFunction() function from control module\n",
    "trf = co.TransferFunction(num_list, den_list)\n"
   ]
  },
  {
   "cell_type": "code",
   "execution_count": 12,
   "metadata": {},
   "outputs": [
    {
     "output_type": "execute_result",
     "data": {
      "text/plain": "\n        s + 3\n---------------------\n3 s^3 + 2 s^2 + s + 1",
      "text/latex": "$$\\frac{s + 3}{3 s^3 + 2 s^2 + s + 1}$$"
     },
     "metadata": {},
     "execution_count": 12
    }
   ],
   "source": [
    "trf"
   ]
  },
  {
   "cell_type": "code",
   "execution_count": null,
   "metadata": {},
   "outputs": [],
   "source": []
  }
 ],
 "metadata": {
  "language_info": {
   "codemirror_mode": {
    "name": "ipython",
    "version": 3
   },
   "file_extension": ".py",
   "mimetype": "text/x-python",
   "name": "python",
   "nbconvert_exporter": "python",
   "pygments_lexer": "ipython3",
   "version": "3.8.3-final"
  },
  "orig_nbformat": 2,
  "kernelspec": {
   "name": "python38364bit6587694f42a84e689d790c0562cc5a1d",
   "display_name": "Python 3.8.3 64-bit"
  }
 },
 "nbformat": 4,
 "nbformat_minor": 2
}