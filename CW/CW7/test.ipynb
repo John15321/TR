{
 "cells": [
  {
   "cell_type": "code",
   "execution_count": 1,
   "metadata": {},
   "outputs": [],
   "source": [
    "import os\n",
    "import subprocess\n",
    "import numpy as np\n",
    "import pandas as pd\n",
    "import matplotlib as plt\n",
    "import sympy as sp\n",
    "import hurwitz as hr\n",
    "\n",
    "# Tworzymy plik do latexa, ale na poczatku sprawdzamy czy plik o takiej samej nazwie istnieje\n",
    "# jak tak to go usuwamy\n",
    "\n",
    "# Ustawiamy s oraz k w SymPy\n",
    "s = sp.Symbol('s', rational=True)\n",
    "k = sp.Symbol('k', rational=True, real=True)\n",
    "\n",
    "# Nasze transmitancje i ich postacie w latexu\n",
    "K_a = 1/((s+1)*(s+2))\n",
    "K_b = k\n",
    "K_c = (s+2)/((s+1)*(s+2))\n",
    "K_d = 1/(s**2+4*s+5)\n",
    "\n",
    "LATEX_K_LIST = [str(sp.latex(K_a)), str(sp.latex(K_b)),\n",
    "                str(sp.latex(K_c)), str(sp.latex(K_d))]\n",
    "K_LIST = [(K_a), (K_b),\n",
    "          (K_c), (K_d)]\n",
    "G_a = k\n",
    "G_b = 1/((s+1)*(s+2))\n",
    "G_c = 1/(s+3)\n",
    "G_d = 1/(s+3)\n",
    "\n",
    "G_LIST = [(G_a), (G_b),\n",
    "          (G_c), (G_d)]\n",
    "LATEX_G_LIST = [str(sp.latex(G_a)), str(sp.latex(G_b)),\n",
    "                str(sp.latex(G_c)), str(sp.latex(G_d))]\n",
    "\n"
   ]
  },
  {
   "cell_type": "code",
   "execution_count": 2,
   "metadata": {},
   "outputs": [
    {
     "output_type": "execute_result",
     "data": {
      "text/plain": "['\\\\frac{1}{\\\\left(s + 1\\\\right) \\\\left(s + 2\\\\right)}',\n 'k',\n '\\\\frac{1}{s + 1}',\n '\\\\frac{1}{s^{2} + 4 s + 5}']"
     },
     "metadata": {},
     "execution_count": 2
    }
   ],
   "source": [
    "LATEX_K_LIST"
   ]
  },
  {
   "cell_type": "code",
   "execution_count": 3,
   "metadata": {},
   "outputs": [
    {
     "output_type": "execute_result",
     "data": {
      "text/plain": "['k',\n '\\\\frac{1}{\\\\left(s + 1\\\\right) \\\\left(s + 2\\\\right)}',\n '\\\\frac{1}{s + 3}',\n '\\\\frac{1}{s + 3}']"
     },
     "metadata": {},
     "execution_count": 3
    }
   ],
   "source": [
    "LATEX_G_LIST"
   ]
  }
 ],
 "metadata": {
  "language_info": {
   "codemirror_mode": {
    "name": "ipython",
    "version": 3
   },
   "file_extension": ".py",
   "mimetype": "text/x-python",
   "name": "python",
   "nbconvert_exporter": "python",
   "pygments_lexer": "ipython3",
   "version": "3.8.2-final"
  },
  "orig_nbformat": 2,
  "kernelspec": {
   "name": "python38264bit936ce43396354ad0998a2f5599faf09b",
   "display_name": "Python 3.8.2 64-bit"
  }
 },
 "nbformat": 4,
 "nbformat_minor": 2
}