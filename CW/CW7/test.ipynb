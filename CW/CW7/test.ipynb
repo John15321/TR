{
 "cells": [
  {
   "cell_type": "code",
   "execution_count": 7,
   "metadata": {},
   "outputs": [],
   "source": [
    "import numpy as np\n",
    "import pandas as pd \n",
    "import matplotlib as plt\n",
    "import sympy as sp"
   ]
  },
  {
   "cell_type": "code",
   "execution_count": 3,
   "metadata": {},
   "outputs": [
    {
     "output_type": "execute_result",
     "data": {
      "text/plain": "    0\n0   1\n1   1\n2   0\n3   0\n4   1\n5   0\n6   1\n7   0\n8   1\n9   0\n10  0\n11  0\n12  0\n13  0",
      "text/html": "<div>\n<style scoped>\n    .dataframe tbody tr th:only-of-type {\n        vertical-align: middle;\n    }\n\n    .dataframe tbody tr th {\n        vertical-align: top;\n    }\n\n    .dataframe thead th {\n        text-align: right;\n    }\n</style>\n<table border=\"1\" class=\"dataframe\">\n  <thead>\n    <tr style=\"text-align: right;\">\n      <th></th>\n      <th>0</th>\n    </tr>\n  </thead>\n  <tbody>\n    <tr>\n      <th>0</th>\n      <td>1</td>\n    </tr>\n    <tr>\n      <th>1</th>\n      <td>1</td>\n    </tr>\n    <tr>\n      <th>2</th>\n      <td>0</td>\n    </tr>\n    <tr>\n      <th>3</th>\n      <td>0</td>\n    </tr>\n    <tr>\n      <th>4</th>\n      <td>1</td>\n    </tr>\n    <tr>\n      <th>5</th>\n      <td>0</td>\n    </tr>\n    <tr>\n      <th>6</th>\n      <td>1</td>\n    </tr>\n    <tr>\n      <th>7</th>\n      <td>0</td>\n    </tr>\n    <tr>\n      <th>8</th>\n      <td>1</td>\n    </tr>\n    <tr>\n      <th>9</th>\n      <td>0</td>\n    </tr>\n    <tr>\n      <th>10</th>\n      <td>0</td>\n    </tr>\n    <tr>\n      <th>11</th>\n      <td>0</td>\n    </tr>\n    <tr>\n      <th>12</th>\n      <td>0</td>\n    </tr>\n    <tr>\n      <th>13</th>\n      <td>0</td>\n    </tr>\n  </tbody>\n</table>\n</div>"
     },
     "metadata": {},
     "execution_count": 3
    }
   ],
   "source": [
    "df = pd.read_csv(\"stabs.txt\", header=None)\n",
    "df"
   ]
  },
  {
   "cell_type": "code",
   "execution_count": 6,
   "metadata": {},
   "outputs": [
    {
     "output_type": "execute_result",
     "data": {
      "text/plain": "[1, 1, 0, 0, 1, 0, 1, 0, 1, 0, 0, 0, 0, 0]"
     },
     "metadata": {},
     "execution_count": 6
    }
   ],
   "source": [
    "df[0].to_list()"
   ]
  },
  {
   "cell_type": "code",
   "execution_count": 12,
   "metadata": {},
   "outputs": [],
   "source": [
    "s, k = sp.symbols('s k', rational=True)\n",
    "K_a = 1/((s+1)*(s+2))\n",
    "G_a = k"
   ]
  },
  {
   "cell_type": "code",
   "execution_count": 13,
   "metadata": {},
   "outputs": [
    {
     "output_type": "execute_result",
     "data": {
      "text/plain": "1/((s + 1)*(s + 2))",
      "text/latex": "$\\displaystyle \\frac{1}{\\left(s + 1\\right) \\left(s + 2\\right)}$"
     },
     "metadata": {},
     "execution_count": 13
    }
   ],
   "source": [
    "K_a"
   ]
  },
  {
   "cell_type": "code",
   "execution_count": 14,
   "metadata": {},
   "outputs": [
    {
     "output_type": "execute_result",
     "data": {
      "text/plain": "k",
      "text/latex": "$\\displaystyle k$"
     },
     "metadata": {},
     "execution_count": 14
    }
   ],
   "source": [
    "G_a"
   ]
  },
  {
   "cell_type": "code",
   "execution_count": 25,
   "metadata": {},
   "outputs": [
    {
     "output_type": "execute_result",
     "data": {
      "text/plain": "1/((s + 1)*(s + 2)*(k/((s + 1)*(s + 2)) + 1))",
      "text/latex": "$\\displaystyle \\frac{1}{\\left(s + 1\\right) \\left(s + 2\\right) \\left(\\frac{k}{\\left(s + 1\\right) \\left(s + 2\\right)} + 1\\right)}$"
     },
     "metadata": {},
     "execution_count": 25
    }
   ],
   "source": [
    "# Uklad zamkniety\n",
    "K_a_z = K_a/(1+K_a*G_a)\n",
    "K_a_z"
   ]
  },
  {
   "cell_type": "code",
   "execution_count": 26,
   "metadata": {},
   "outputs": [
    {
     "output_type": "execute_result",
     "data": {
      "text/plain": "k/((s + 1)*(s + 2))",
      "text/latex": "$\\displaystyle \\frac{k}{\\left(s + 1\\right) \\left(s + 2\\right)}$"
     },
     "metadata": {},
     "execution_count": 26
    }
   ],
   "source": [
    "# Uklad otwarty\n",
    "K_a_0 = K_a*G_a\n",
    "K_a_0"
   ]
  },
  {
   "cell_type": "code",
   "execution_count": 31,
   "metadata": {},
   "outputs": [],
   "source": []
  },
  {
   "cell_type": "code",
   "execution_count": 32,
   "metadata": {},
   "outputs": [
    {
     "output_type": "stream",
     "name": "stdout",
     "text": "\\left[\\begin{matrix}\\end{matrix}\\right]\n"
    }
   ],
   "source": [
    "s = sp.Symbol('s', real=True)\n",
    "a, b = Hurwitz_sp((1/((s+1)*(s+2)*(s+1))))\n"
   ]
  },
  {
   "cell_type": "code",
   "execution_count": 29,
   "metadata": {},
   "outputs": [
    {
     "output_type": "execute_result",
     "data": {
      "text/plain": "1"
     },
     "metadata": {},
     "execution_count": 29
    }
   ],
   "source": []
  },
  {
   "cell_type": "code",
   "execution_count": 3,
   "metadata": {},
   "outputs": [],
   "source": []
  },
  {
   "cell_type": "code",
   "execution_count": 4,
   "metadata": {},
   "outputs": [],
   "source": [
    "s = sp.Symbol('s', real=True)\n",
    "a, b = Hurwitz_sp((1/((s+1)*(s+2)*(s+1))))\n"
   ]
  },
  {
   "cell_type": "code",
   "execution_count": 34,
   "metadata": {},
   "outputs": [],
   "source": [
    "# Licznik i Mianownik K'atych (jako listy wspolczynnikow przy s'ach)\n",
    "L_KG_LIST_a, M_KG_LIST_a = [[float(i) for i in sp.Poly(\n",
    "    i, s).all_coeffs()] for i in (K_a*G_a).replace(k, 1).as_numer_denom()]\n",
    "L_KG_LIST_b, M_KG_LIST_b = [[float(i) for i in sp.Poly(\n",
    "    i, s).all_coeffs()] for i in (K_b*G_b).replace(k, 1).as_numer_denom()]\n",
    "L_KG_LIST_c, M_KG_LIST_c = [[float(i) for i in sp.Poly(\n",
    "    i, s).all_coeffs()] for i in (K_c*G_c).replace(k, 1).as_numer_denom()]\n",
    "L_KG_LIST_d, M_KG_LIST_d = [[float(i) for i in sp.Poly(\n",
    "    i, s).all_coeffs()] for i in (K_d*G_d).replace(k, 1).as_numer_denom()]"
   ]
  },
  {
   "cell_type": "code",
   "execution_count": 36,
   "metadata": {},
   "outputs": [
    {
     "output_type": "execute_result",
     "data": {
      "text/plain": "[1.0, 4.0, 3.0]"
     },
     "metadata": {},
     "execution_count": 36
    }
   ],
   "source": [
    "M_KG_LIST_c"
   ]
  },
  {
   "cell_type": "code",
   "execution_count": 6,
   "metadata": {},
   "outputs": [
    {
     "output_type": "stream",
     "name": "stdout",
     "text": "\\frac{1}{\\left(s + 1\\right) \\left(s + 2\\right)}\n"
    }
   ],
   "source": [
    "s = sp.print_latex(K_a)"
   ]
  },
  {
   "cell_type": "code",
   "execution_count": 11,
   "metadata": {},
   "outputs": [],
   "source": [
    "a = str(sp.latex(K_a))"
   ]
  },
  {
   "cell_type": "code",
   "execution_count": 26,
   "metadata": {},
   "outputs": [
    {
     "output_type": "execute_result",
     "data": {
      "text/plain": "1 + 1/((s + 1)*(s + 2))",
      "text/latex": "$\\displaystyle 1 + \\frac{1}{\\left(s + 1\\right) \\left(s + 2\\right)}$"
     },
     "metadata": {},
     "execution_count": 26
    }
   ],
   "source": [
    "K_a+1"
   ]
  },
  {
   "cell_type": "code",
   "execution_count": 28,
   "metadata": {},
   "outputs": [
    {
     "output_type": "execute_result",
     "data": {
      "text/plain": "[1.0, 3.0, 3.0]"
     },
     "metadata": {},
     "execution_count": 28
    }
   ],
   "source": [
    "L_K_a"
   ]
  },
  {
   "cell_type": "code",
   "execution_count": 29,
   "metadata": {},
   "outputs": [],
   "source": [
    "L_K_a, M_K_a = sp.fraction(K_a)\n",
    "L_K_b, M_K_b = sp.fraction(K_b)\n",
    "L_K_c, M_K_c = sp.fraction(K_c)\n",
    "L_K_d, M_K_d = sp.fraction(K_d)\n",
    "\n",
    "L_G_a, M_G_a = sp.fraction(G_a)\n",
    "L_G_b, M_G_b = sp.fraction(G_b)\n",
    "L_G_c, M_G_c = sp.fraction(G_c)\n",
    "L_G_d, M_G_d = sp.fraction(G_d)"
   ]
  },
  {
   "cell_type": "code",
   "execution_count": 32,
   "metadata": {},
   "outputs": [
    {
     "output_type": "execute_result",
     "data": {
      "text/plain": "k",
      "text/latex": "$\\displaystyle k$"
     },
     "metadata": {},
     "execution_count": 32
    }
   ],
   "source": [
    "L_K_b"
   ]
  },
  {
   "cell_type": "code",
   "execution_count": 31,
   "metadata": {},
   "outputs": [
    {
     "output_type": "execute_result",
     "data": {
      "text/plain": "s + 3",
      "text/latex": "$\\displaystyle s + 3$"
     },
     "metadata": {},
     "execution_count": 31
    }
   ],
   "source": [
    "M_G_c"
   ]
  },
  {
   "cell_type": "code",
   "execution_count": 33,
   "metadata": {},
   "outputs": [
    {
     "output_type": "error",
     "ename": "NameError",
     "evalue": "name 'L_KG_LIST_c' is not defined",
     "traceback": [
      "\u001b[0;31m---------------------------------------------------------------------------\u001b[0m",
      "\u001b[0;31mNameError\u001b[0m                                 Traceback (most recent call last)",
      "\u001b[0;32m<ipython-input-33-39063e26da08>\u001b[0m in \u001b[0;36m<module>\u001b[0;34m\u001b[0m\n\u001b[0;32m----> 1\u001b[0;31m \u001b[0mL_KG_LIST_c\u001b[0m\u001b[0;34m\u001b[0m\u001b[0;34m\u001b[0m\u001b[0m\n\u001b[0m",
      "\u001b[0;31mNameError\u001b[0m: name 'L_KG_LIST_c' is not defined"
     ]
    }
   ],
   "source": [
    "L_KG_LIST_c"
   ]
  },
  {
   "cell_type": "code",
   "execution_count": 37,
   "metadata": {},
   "outputs": [
    {
     "output_type": "execute_result",
     "data": {
      "text/plain": "   0  1\n0  1  1\n1  1  1\n2  1  1\n3  1  1",
      "text/html": "<div>\n<style scoped>\n    .dataframe tbody tr th:only-of-type {\n        vertical-align: middle;\n    }\n\n    .dataframe tbody tr th {\n        vertical-align: top;\n    }\n\n    .dataframe thead th {\n        text-align: right;\n    }\n</style>\n<table border=\"1\" class=\"dataframe\">\n  <thead>\n    <tr style=\"text-align: right;\">\n      <th></th>\n      <th>0</th>\n      <th>1</th>\n    </tr>\n  </thead>\n  <tbody>\n    <tr>\n      <th>0</th>\n      <td>1</td>\n      <td>1</td>\n    </tr>\n    <tr>\n      <th>1</th>\n      <td>1</td>\n      <td>1</td>\n    </tr>\n    <tr>\n      <th>2</th>\n      <td>1</td>\n      <td>1</td>\n    </tr>\n    <tr>\n      <th>3</th>\n      <td>1</td>\n      <td>1</td>\n    </tr>\n  </tbody>\n</table>\n</div>"
     },
     "metadata": {},
     "execution_count": 37
    }
   ],
   "source": [
    "df = pd.read_csv(\"stabs.txt\", header=None)\n",
    "# STABS_KG = df[0].to_list()\n",
    "df"
   ]
  },
  {
   "cell_type": "code",
   "execution_count": 38,
   "metadata": {},
   "outputs": [
    {
     "output_type": "execute_result",
     "data": {
      "text/plain": "[1, 1, 1, 1]"
     },
     "metadata": {},
     "execution_count": 38
    }
   ],
   "source": [
    "STABS_KG = df[0].to_list()\n",
    "STABS_KG"
   ]
  },
  {
   "cell_type": "code",
   "execution_count": 39,
   "metadata": {},
   "outputs": [
    {
     "output_type": "execute_result",
     "data": {
      "text/plain": "0    1\n1    1\n2    1\n3    1\nName: 1, dtype: int64"
     },
     "metadata": {},
     "execution_count": 39
    }
   ],
   "source": [
    "df[1]"
   ]
  },
  {
   "cell_type": "code",
   "execution_count": 1,
   "metadata": {},
   "outputs": [],
   "source": [
    "'''\n",
    "W tym pliku zdefiniowane sa funkcje potrzebne do kryterium Hurwitza\n",
    "'''\n",
    "import sympy as sp\n",
    "import numpy as np\n",
    "sp.init_printing(use_latex=True)\n",
    "sp.init_printing(use_unicode=True)\n",
    "\n",
    "\n",
    "def Hurwitz_sp(Y):\n",
    "    '''\n",
    "    Funkcja sprawdzajaca stabilnosc transmitancji\n",
    "    INPUT: obiekt sp.Function\n",
    "    OUTPUT: stabilnosc 1 lub 0, macierz Hurwitza transmitancji(tex syndax)\n",
    "    '''\n",
    "    # zainicjowanie symboli\n",
    "    s = sp.Symbol('s', real=True)\n",
    "    M = sp.Function('M')(s)\n",
    "    L = sp.Function('L')(s)\n",
    "    L, M = sp.fraction(Y)  # podział na licznik i mianownik\n",
    "    Ywspolczynniki = sp.Poly(M, s)\n",
    "    Ywspolczynniki = Ywspolczynniki.all_coeffs()\n",
    "    # rozpoczynam algorytm kryterium Hurwitza\n",
    "    Ystopien = len(Ywspolczynniki)-1\n",
    "    # tworze wektory potrzebne do stworzenia macierzy Hurwitza\n",
    "    pTabParz = sp.Matrix([[]])\n",
    "    pTabNParz = sp.Matrix([[]])\n",
    "    pm = 0\n",
    "    pn = 0\n",
    "    for x in range(Ystopien):\n",
    "        pm = x*2\n",
    "        pn = x*2+1\n",
    "        if pm <= Ystopien:\n",
    "            pTabParz = pTabParz.col_insert(x, sp.Matrix([Ywspolczynniki[pm]]))\n",
    "        else:\n",
    "            pTabParz = pTabParz.col_insert(x, sp.Matrix([0]))\n",
    "        if pn <= Ystopien:\n",
    "            pTabNParz = pTabNParz.col_insert(\n",
    "                x, sp.Matrix([Ywspolczynniki[pn]]))\n",
    "        else:\n",
    "            pTabNParz = pTabNParz.col_insert(x, sp.Matrix([0]))\n",
    "    # deklaruje macierz Hurwitza jako macierz zer\n",
    "    macierzHurwitza = sp.zeros(Ystopien, Ystopien)\n",
    "    # algorytm zapusijacy macierz Hurwitza\n",
    "    parzyste = False\n",
    "    if Ystopien == 0:\n",
    "        macierzHurwitza = (sp.ones(1, 1))/Y\n",
    "    else:\n",
    "        for x in range(Ystopien):\n",
    "            if(parzyste == False):\n",
    "                macierzHurwitza.row_del(x)\n",
    "                macierzHurwitza = macierzHurwitza.row_insert(x, pTabNParz)\n",
    "                pTabNParz = pTabNParz.col_insert(0, sp.Matrix([0]))\n",
    "                pTabNParz.col_del(Ystopien)\n",
    "                parzyste = (not parzyste)\n",
    "            elif(parzyste == True):\n",
    "                macierzHurwitza.row_del(x)\n",
    "                macierzHurwitza = macierzHurwitza.row_insert(x, pTabParz)\n",
    "                pTabParz = pTabParz.col_insert(0, sp.Matrix([0]))\n",
    "                pTabParz.col_del(Ystopien)\n",
    "                parzyste = (not parzyste)\n",
    "    # algorytm sprawdzajacy czy wszystkie podwyznaczniki sa dodatnie\n",
    "    stabilnoscHurwitza = 1\n",
    "    macierzHurwitzaPomocnicza = macierzHurwitza.copy()\n",
    "    wyznacznikiHurwitza=[]\n",
    "    for x in range(Ystopien):\n",
    "        wyznacznikiHurwitza.append(macierzHurwitzaPomocnicza.det().copy())\n",
    "        if macierzHurwitzaPomocnicza.det() <= 0:\n",
    "            stabilnoscHurwitza = 0\n",
    "        macierzHurwitzaPomocnicza.col_del(macierzHurwitzaPomocnicza.shape[0]-1)\n",
    "        macierzHurwitzaPomocnicza.row_del(macierzHurwitzaPomocnicza.shape[0]-1)\n",
    "        # jesli wszystkie podwyznaczniki sa dodatnie to zmienna stabilnoscHurwitza jest rowna 1, w przeciwnym wypadku jest rowna 0\n",
    "    return stabilnoscHurwitza, str(sp.latex(macierzHurwitza)), wyznacznikiHurwitza\n"
   ]
  },
  {
   "cell_type": "code",
   "execution_count": 2,
   "metadata": {},
   "outputs": [],
   "source": [
    "# Ustawiamy s oraz k w SymPy\n",
    "s = sp.Symbol('s', rational=True)\n",
    "k = sp.Symbol('k', rational=True, real=True)\n",
    "\n",
    "# Nasze transmitancje i ich postacie w latexu\n",
    "K_a = 1/((s+1)*(s+2))\n",
    "K_b = k\n",
    "K_c = (s+2)/((s+1)*(s+2))\n",
    "K_d = 1/(s**2+4*s+5)\n",
    "\n",
    "LATEX_K_a = str(sp.latex(K_a))\n",
    "LATEX_K_b = str(sp.latex(K_b))\n",
    "LATEX_K_c = str(sp.latex(K_c))\n",
    "LATEX_K_d = str(sp.latex(K_d))\n",
    "\n",
    "G_a = k\n",
    "G_b = 1/((s+1)*(s+2))\n",
    "G_c = 1/(s+3)\n",
    "G_d = 1/(s+3)\n",
    "\n",
    "\n",
    "LATEX_G_a = str(sp.latex(G_a))\n",
    "LATEX_G_b = str(sp.latex(G_b))\n",
    "LATEX_G_c = str(sp.latex(G_c))\n",
    "LATEX_G_d = str(sp.latex(G_d))\n",
    "\n",
    "\n",
    "# Podział na licznik i mianownik (symbolicznie)\n",
    "L_K_a, M_K_a = sp.fraction(K_a)\n",
    "L_K_b, M_K_b = sp.fraction(K_b)\n",
    "L_K_c, M_K_c = sp.fraction(K_c)\n",
    "L_K_d, M_K_d = sp.fraction(K_d)\n",
    "\n",
    "L_G_a, M_G_a = sp.fraction(G_a)\n",
    "L_G_b, M_G_b = sp.fraction(G_b)\n",
    "L_G_c, M_G_c = sp.fraction(G_c)\n",
    "L_G_d, M_G_d = sp.fraction(G_d)\n",
    "\n",
    "# Hurwitz, dla kazdego przykladu, dla petli zamknietej\n",
    "# Dostajemy booleana czy jest stabilny czy nie\n",
    "# oraz wersje latexowa(string) K_z\n",
    "K_Z_STAB_a, LATEX_K_Z_a, K_Z_DET_a = Hurwitz_sp(L_K_a*L_G_a+M_K_a*M_G_a)\n",
    "K_Z_STAB_b, LATEX_K_Z_b, K_Z_DET_b = Hurwitz_sp(L_K_b*L_G_b+M_K_b*M_G_b)\n",
    "K_Z_STAB_c, LATEX_K_Z_c, K_Z_DET_c = Hurwitz_sp(L_K_c*L_G_c+M_K_c*M_G_c)\n",
    "K_Z_STAB_d, LATEX_K_Z_d, K_Z_DET_d = Hurwitz_sp(L_K_d*L_G_d+M_K_d*M_G_d)"
   ]
  },
  {
   "cell_type": "code",
   "execution_count": 3,
   "metadata": {},
   "outputs": [
    {
     "output_type": "execute_result",
     "data": {
      "text/plain": "(1,\n '\\\\left[\\\\begin{matrix}\\\\frac{1}{\\\\left(s + 3\\\\right) \\\\left(s^{2} + 4 s + 5\\\\right) + 1}\\\\end{matrix}\\\\right]',\n [])"
     },
     "metadata": {},
     "execution_count": 3
    }
   ],
   "source": [
    "K_Z_STAB_d, LATEX_K_Z_d, K_Z_DET_d"
   ]
  },
  {
   "cell_type": "code",
   "execution_count": null,
   "metadata": {},
   "outputs": [],
   "source": [
    "K_Z_STAB_d\n"
   ]
  },
  {
   "cell_type": "code",
   "execution_count": null,
   "metadata": {},
   "outputs": [],
   "source": []
  }
 ],
 "metadata": {
  "language_info": {
   "codemirror_mode": {
    "name": "ipython",
    "version": 3
   },
   "file_extension": ".py",
   "mimetype": "text/x-python",
   "name": "python",
   "nbconvert_exporter": "python",
   "pygments_lexer": "ipython3",
   "version": "3.8.3-final"
  },
  "orig_nbformat": 2,
  "kernelspec": {
   "name": "python38364bit6587694f42a84e689d790c0562cc5a1d",
   "display_name": "Python 3.8.3 64-bit"
  }
 },
 "nbformat": 4,
 "nbformat_minor": 2
}