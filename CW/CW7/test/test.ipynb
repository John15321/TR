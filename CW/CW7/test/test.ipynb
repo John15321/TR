{
 "cells": [
  {
   "cell_type": "code",
   "execution_count": 7,
   "metadata": {},
   "outputs": [],
   "source": [
    "import numpy as np\n",
    "import pandas as pd \n",
    "import matplotlib as plt\n",
    "import sympy as sp"
   ]
  },
  {
   "cell_type": "code",
   "execution_count": 3,
   "metadata": {},
   "outputs": [
    {
     "output_type": "execute_result",
     "data": {
      "text/plain": "    0\n0   1\n1   1\n2   0\n3   0\n4   1\n5   0\n6   1\n7   0\n8   1\n9   0\n10  0\n11  0\n12  0\n13  0",
      "text/html": "<div>\n<style scoped>\n    .dataframe tbody tr th:only-of-type {\n        vertical-align: middle;\n    }\n\n    .dataframe tbody tr th {\n        vertical-align: top;\n    }\n\n    .dataframe thead th {\n        text-align: right;\n    }\n</style>\n<table border=\"1\" class=\"dataframe\">\n  <thead>\n    <tr style=\"text-align: right;\">\n      <th></th>\n      <th>0</th>\n    </tr>\n  </thead>\n  <tbody>\n    <tr>\n      <th>0</th>\n      <td>1</td>\n    </tr>\n    <tr>\n      <th>1</th>\n      <td>1</td>\n    </tr>\n    <tr>\n      <th>2</th>\n      <td>0</td>\n    </tr>\n    <tr>\n      <th>3</th>\n      <td>0</td>\n    </tr>\n    <tr>\n      <th>4</th>\n      <td>1</td>\n    </tr>\n    <tr>\n      <th>5</th>\n      <td>0</td>\n    </tr>\n    <tr>\n      <th>6</th>\n      <td>1</td>\n    </tr>\n    <tr>\n      <th>7</th>\n      <td>0</td>\n    </tr>\n    <tr>\n      <th>8</th>\n      <td>1</td>\n    </tr>\n    <tr>\n      <th>9</th>\n      <td>0</td>\n    </tr>\n    <tr>\n      <th>10</th>\n      <td>0</td>\n    </tr>\n    <tr>\n      <th>11</th>\n      <td>0</td>\n    </tr>\n    <tr>\n      <th>12</th>\n      <td>0</td>\n    </tr>\n    <tr>\n      <th>13</th>\n      <td>0</td>\n    </tr>\n  </tbody>\n</table>\n</div>"
     },
     "metadata": {},
     "execution_count": 3
    }
   ],
   "source": [
    "df = pd.read_csv(\"stabs.txt\", header=None)\n",
    "df"
   ]
  },
  {
   "cell_type": "code",
   "execution_count": 6,
   "metadata": {},
   "outputs": [
    {
     "output_type": "execute_result",
     "data": {
      "text/plain": "[1, 1, 0, 0, 1, 0, 1, 0, 1, 0, 0, 0, 0, 0]"
     },
     "metadata": {},
     "execution_count": 6
    }
   ],
   "source": [
    "df[0].to_list()"
   ]
  },
  {
   "cell_type": "code",
   "execution_count": 12,
   "metadata": {},
   "outputs": [],
   "source": [
    "s, k = sp.symbols('s k', rational=True)\n",
    "K_a = 1/((s+1)*(s+2))\n",
    "G_a = k"
   ]
  },
  {
   "cell_type": "code",
   "execution_count": 13,
   "metadata": {},
   "outputs": [
    {
     "output_type": "execute_result",
     "data": {
      "text/plain": "1/((s + 1)*(s + 2))",
      "text/latex": "$\\displaystyle \\frac{1}{\\left(s + 1\\right) \\left(s + 2\\right)}$"
     },
     "metadata": {},
     "execution_count": 13
    }
   ],
   "source": [
    "K_a"
   ]
  },
  {
   "cell_type": "code",
   "execution_count": 14,
   "metadata": {},
   "outputs": [
    {
     "output_type": "execute_result",
     "data": {
      "text/plain": "k",
      "text/latex": "$\\displaystyle k$"
     },
     "metadata": {},
     "execution_count": 14
    }
   ],
   "source": [
    "G_a"
   ]
  },
  {
   "cell_type": "code",
   "execution_count": 25,
   "metadata": {},
   "outputs": [
    {
     "output_type": "execute_result",
     "data": {
      "text/plain": "1/((s + 1)*(s + 2)*(k/((s + 1)*(s + 2)) + 1))",
      "text/latex": "$\\displaystyle \\frac{1}{\\left(s + 1\\right) \\left(s + 2\\right) \\left(\\frac{k}{\\left(s + 1\\right) \\left(s + 2\\right)} + 1\\right)}$"
     },
     "metadata": {},
     "execution_count": 25
    }
   ],
   "source": [
    "# Uklad zamkniety\n",
    "K_a_z = K_a/(1+K_a*G_a)\n",
    "K_a_z"
   ]
  },
  {
   "cell_type": "code",
   "execution_count": 26,
   "metadata": {},
   "outputs": [
    {
     "output_type": "execute_result",
     "data": {
      "text/plain": "k/((s + 1)*(s + 2))",
      "text/latex": "$\\displaystyle \\frac{k}{\\left(s + 1\\right) \\left(s + 2\\right)}$"
     },
     "metadata": {},
     "execution_count": 26
    }
   ],
   "source": [
    "# Uklad otwarty\n",
    "K_a_0 = K_a*G_a\n",
    "K_a_0"
   ]
  },
  {
   "cell_type": "code",
   "execution_count": 31,
   "metadata": {},
   "outputs": [],
   "source": [
    "import numpy as np\n",
    "import sympy as sp\n",
    "def Hurwitz_sp(Y):\n",
    "    # zainicjowanie symboli\n",
    "    s = sp.Symbol('s', real=True)\n",
    "    # Y = sp.Function('Y')(s)\n",
    "    M = sp.Function('M')(s)\n",
    "    L = sp.Function('L')(s)\n",
    "    # Transmitancja\n",
    "    # Y = (1/((s+1)*(s+2)*(s+1)))\n",
    "    L, M = sp.fraction(Y)  # podział na licznik i mianownik\n",
    "    Ywspolczynniki = sp.Poly(M, s)\n",
    "    Ywspolczynniki = Ywspolczynniki.all_coeffs()\n",
    "    # rozpoczynam algorytm kryterium Hurwitza\n",
    "    Ystopien = len(Ywspolczynniki)-1\n",
    "    # tworze wektory potrzebne do stworzenia macierzy Hurwitza\n",
    "    pTabParz =sp.Matrix([[]])\n",
    "    pTabNParz =sp.Matrix([[]])\n",
    "    pm = 0\n",
    "    pn = 0\n",
    "    for x in range(Ystopien):\n",
    "        pm = x*2\n",
    "        pn = x*2+1\n",
    "        if pm <= Ystopien:\n",
    "            pTabParz = pTabParz.col_insert(x, sp.Matrix([Ywspolczynniki[pm]]))\n",
    "        else:\n",
    "            pTabParz = pTabParz.col_insert(x, sp.Matrix([0]))\n",
    "        if pn <= Ystopien:\n",
    "            pTabNParz = pTabNParz.col_insert(x, sp.Matrix([Ywspolczynniki[pn]]))\n",
    "        else:\n",
    "            pTabNParz = pTabNParz.col_insert(x, sp.Matrix([0]))\n",
    "    # deklaruje macierz Hurwitza jako macierz zer\n",
    "    macierzHurwitza = sp.zeros(Ystopien, Ystopien)\n",
    "    # algorytm zapusijacy macierz Hurwitza\n",
    "    parzyste = False\n",
    "    if Ystopien == 0:\n",
    "        macierzHurwitza = (sp.ones(1, 1))/Y\n",
    "    else:\n",
    "        for x in range(Ystopien):\n",
    "            if(parzyste == False):\n",
    "                macierzHurwitza.row_del(x)\n",
    "                macierzHurwitza = macierzHurwitza.row_insert(x, pTabNParz)\n",
    "                pTabNParz = pTabNParz.col_insert(0, sp.Matrix([0]))\n",
    "                pTabNParz.col_del(Ystopien)\n",
    "                parzyste = (not parzyste)\n",
    "            elif(parzyste == True):\n",
    "                macierzHurwitza.row_del(x)\n",
    "                macierzHurwitza = macierzHurwitza.row_insert(x, pTabParz)\n",
    "                pTabParz = pTabParz.col_insert(0, sp.Matrix([0]))\n",
    "                pTabParz.col_del(Ystopien)\n",
    "                parzyste = (not parzyste)\n",
    "    # algorytm sprawdzajacy czy wszystkie podwyznaczniki sa dodatnie\n",
    "    stabilnoscHurwitza = 1\n",
    "    macierzHurwitzaPomocnicza = macierzHurwitza\n",
    "    for x in range(Ystopien):\n",
    "        if macierzHurwitzaPomocnicza.det() <= 0:\n",
    "            stabilnoscHurwitza = 0\n",
    "        macierzHurwitzaPomocnicza.col_del(0)\n",
    "        macierzHurwitzaPomocnicza.row_del(0)\n",
    "    # jesli wszystkie podwyznaczniki sa dodatnie to zmienna stabilnoscHurwitza jest rowna 1, w przeciwnym wypadku jest rowna 0\n",
    "    return stabilnoscHurwitza, sp.print_latex(macierzHurwitza)\n",
    "\n"
   ]
  },
  {
   "cell_type": "code",
   "execution_count": 32,
   "metadata": {},
   "outputs": [
    {
     "output_type": "stream",
     "name": "stdout",
     "text": "\\left[\\begin{matrix}\\end{matrix}\\right]\n"
    }
   ],
   "source": [
    "s = sp.Symbol('s', real=True)\n",
    "a, b = Hurwitz_sp((1/((s+1)*(s+2)*(s+1))))\n"
   ]
  },
  {
   "cell_type": "code",
   "execution_count": 29,
   "metadata": {},
   "outputs": [
    {
     "output_type": "execute_result",
     "data": {
      "text/plain": "1"
     },
     "metadata": {},
     "execution_count": 29
    }
   ],
   "source": [
    "# Implementacja modułów\n",
    "import numpy as np\n",
    "import sympy as sp\n",
    "sp.printing.init_printing(use_latex=True)\n",
    "\n",
    "\n",
    "'''\n",
    "Funkcja sprawdzajaca stabilnosc transmitancji\n",
    "INPUT: obiekt sp.Function\n",
    "OUTPUT: stabilnosc 1 lub 0, macierz Hurwitza transmitancji(tex syndax)\n",
    "'''\n",
    "s = sp.Symbol('s', real=True)\n",
    "# zainicjowanie symboli\n",
    "s = sp.Symbol('s', real=True)\n",
    "# Y = sp.Function('Y')(s)\n",
    "M = sp.Function('M')(s)\n",
    "L = sp.Function('L')(s)\n",
    "# Transmitancja\n",
    "# Y = (1/((s+1)*(s+2)*(s+1)))\n",
    "L, M = sp.fraction(Y)  # podział na licznik i mianownik\n",
    "Ywspolczynniki = sp.Poly(M, s)\n",
    "Ywspolczynniki = Ywspolczynniki.all_coeffs()\n",
    "# rozpoczynam algorytm kryterium Hurwitza\n",
    "Ystopien = len(Ywspolczynniki)-1\n",
    "# tworze wektory potrzebne do stworzenia macierzy Hurwitza\n",
    "pTabParz = sp.Matrix([[]])\n",
    "pTabNParz = sp.Matrix([[]])\n",
    "pm = 0\n",
    "pn = 0\n",
    "for x in range(Ystopien):\n",
    "    pm = x*2\n",
    "    pn = x*2+1\n",
    "    if pm <= Ystopien:\n",
    "        pTabParz = pTabParz.col_insert(x, sp.Matrix([Ywspolczynniki[pm]]))\n",
    "    else:\n",
    "        pTabParz = pTabParz.col_insert(x, sp.Matrix([0]))\n",
    "    if pn <= Ystopien:\n",
    "        pTabNParz = pTabNParz.col_insert(x, sp.Matrix([Ywspolczynniki[pn]]))\n",
    "    else:\n",
    "        pTabNParz = pTabNParz.col_insert(x, sp.Matrix([0]))\n",
    "# deklaruje macierz Hurwitza jako macierz zer\n",
    "macierzHurwitza = sp.zeros(Ystopien, Ystopien)\n",
    "# algorytm zapusijacy macierz Hurwitza\n",
    "parzyste = False\n",
    "if Ystopien == 0:\n",
    "    macierzHurwitza = (sp.ones(1, 1))/Y\n",
    "else:\n",
    "    for x in range(Ystopien):\n",
    "        if(parzyste == False):\n",
    "            macierzHurwitza.row_del(x)\n",
    "            macierzHurwitza = macierzHurwitza.row_insert(x, pTabNParz)\n",
    "            pTabNParz = pTabNParz.col_insert(0, sp.Matrix([0]))\n",
    "            pTabNParz.col_del(Ystopien)\n",
    "            parzyste = (not parzyste)\n",
    "        elif(parzyste == True):\n",
    "            macierzHurwitza.row_del(x)\n",
    "            macierzHurwitza = macierzHurwitza.row_insert(x, pTabParz)\n",
    "            pTabParz = pTabParz.col_insert(0, sp.Matrix([0]))\n",
    "            pTabParz.col_del(Ystopien)\n",
    "            parzyste = (not parzyste)\n",
    "# algorytm sprawdzajacy czy wszystkie podwyznaczniki sa dodatnie\n",
    "stabilnoscHurwitza = 1\n",
    "macierzHurwitzaPomocnicza = macierzHurwitza\n",
    "for x in range(Ystopien):\n",
    "    if macierzHurwitzaPomocnicza.det() <= 0:\n",
    "        stabilnoscHurwitza = 0\n",
    "    macierzHurwitzaPomocnicza.col_del(0)\n",
    "    macierzHurwitzaPomocnicza.row_del(0)\n",
    "# jesli wszystkie podwyznaczniki sa dodatnie to zmiennastabilnoscHurwitza jest rowna 1, w przeciwnym wypadku jest rowna 0\n",
    "# return stabilnoscHurwitza, sp.print_latex(macierzHurwitza)\n",
    "\n",
    "\n",
    "# s = sp.Symbol('s', real=True)\n",
    "# a, b = Hurwitz_sp((1/((s+1)*(s+2)*(s+1))))\n"
   ]
  },
  {
   "cell_type": "code",
   "execution_count": 3,
   "metadata": {},
   "outputs": [],
   "source": [
    "# Implementacja modułów\n",
    "import numpy as np\n",
    "import sympy as sp\n",
    "from sympy.interactive import printing\n",
    "printing.init_printing(use_latex=True)\n",
    "\n",
    "def Hurwitz_sp(Y):\n",
    "    '''\n",
    "    Funkcja sprawdzajaca stabilnosc transmitancji\n",
    "    INPUT: obiekt sp.Function\n",
    "    OUTPUT: stabilnosc 1 lub 0, macierz Hurwitza transmitancji(tex syndax)\n",
    "    '''\n",
    "    # zainicjowanie symboli\n",
    "    s = sp.Symbol('s', real=True)\n",
    "    # Y = sp.Function('Y')(s)\n",
    "    M = sp.Function('M')(s)\n",
    "    L = sp.Function('L')(s)\n",
    "    # Transmitancja\n",
    "    # Y = (1/((s+1)*(s+2)*(s+1)))\n",
    "    L, M = sp.fraction(Y)  # podział na licznik i mianownik\n",
    "    Ywspolczynniki = sp.Poly(M, s)\n",
    "    Ywspolczynniki = Ywspolczynniki.all_coeffs()\n",
    "    # rozpoczynam algorytm kryterium Hurwitza\n",
    "    Ystopien = len(Ywspolczynniki)-1\n",
    "    # tworze wektory potrzebne do stworzenia macierzy Hurwitza\n",
    "    pTabParz = sp.Matrix([[]])\n",
    "    pTabNParz = sp.Matrix([[]])\n",
    "    pm = 0\n",
    "    pn = 0\n",
    "    for x in range(Ystopien):\n",
    "        pm = x*2\n",
    "        pn = x*2+1\n",
    "        if pm <= Ystopien:\n",
    "            pTabParz = pTabParz.col_insert(x, sp.Matrix([Ywspolczynniki[pm]]))\n",
    "        else:\n",
    "            pTabParz = pTabParz.col_insert(x, sp.Matrix([0]))\n",
    "        if pn <= Ystopien:\n",
    "            pTabNParz = pTabNParz.col_insert(x, sp.Matrix([Ywspolczynniki[pn]]))\n",
    "        else:\n",
    "            pTabNParz = pTabNParz.col_insert(x, sp.Matrix([0]))\n",
    "    # deklaruje macierz Hurwitza jako macierz zer\n",
    "    macierzHurwitza = sp.zeros(Ystopien, Ystopien)\n",
    "    # algorytm zapusijacy macierz Hurwitza\n",
    "    parzyste = False\n",
    "    if Ystopien == 0:\n",
    "        macierzHurwitza = (sp.ones(1, 1))/Y\n",
    "    else:\n",
    "        for x in range(Ystopien):\n",
    "            if(parzyste == False):\n",
    "                macierzHurwitza.row_del(x)\n",
    "                macierzHurwitza = macierzHurwitza.row_insert(x, pTabNParz)\n",
    "                pTabNParz = pTabNParz.col_insert(0, sp.Matrix([0]))\n",
    "                pTabNParz.col_del(Ystopien)\n",
    "                parzyste = (not parzyste)\n",
    "            elif(parzyste == True):\n",
    "                macierzHurwitza.row_del(x)\n",
    "                macierzHurwitza = macierzHurwitza.row_insert(x, pTabParz)\n",
    "                pTabParz = pTabParz.col_insert(0, sp.Matrix([0]))\n",
    "                pTabParz.col_del(Ystopien)\n",
    "                parzyste = (not parzyste)\n",
    "    # algorytm sprawdzajacy czy wszystkie podwyznaczniki sa dodatnie\n",
    "    stabilnoscHurwitza = 1\n",
    "    macierzHurwitzaPomocnicza = macierzHurwitza\n",
    "    for x in range(Ystopien):\n",
    "        if macierzHurwitzaPomocnicza.det() <= 0:\n",
    "            stabilnoscHurwitza = 0\n",
    "        macierzHurwitzaPomocnicza.col_del(0)\n",
    "        macierzHurwitzaPomocnicza.row_del(0)\n",
    "    # jesli wszystkie podwyznaczniki sa dodatnie to zmienna stabilnoscHurwitza jest rowna 1, w przeciwnym wypadku jest rowna 0\n",
    "    return stabilnoscHurwitza, sp.latex(macierzHurwitza)\n",
    "\n",
    "\n",
    "# s = sp.Symbol('s', real=True)\n",
    "# a, b = Hurwitz_sp((1/((s+1)*(s+2)*(s+1))))\n"
   ]
  },
  {
   "cell_type": "code",
   "execution_count": 4,
   "metadata": {},
   "outputs": [],
   "source": [
    "s = sp.Symbol('s', real=True)\n",
    "a, b = Hurwitz_sp((1/((s+1)*(s+2)*(s+1))))\n"
   ]
  },
  {
   "cell_type": "code",
   "execution_count": 35,
   "metadata": {},
   "outputs": [],
   "source": [
    "a"
   ]
  },
  {
   "cell_type": "code",
   "execution_count": null,
   "metadata": {},
   "outputs": [],
   "source": [
    "b"
   ]
  },
  {
   "cell_type": "code",
   "execution_count": null,
   "metadata": {},
   "outputs": [],
   "source": []
  }
 ],
 "metadata": {
  "language_info": {
   "codemirror_mode": {
    "name": "ipython",
    "version": 3
   },
   "file_extension": ".py",
   "mimetype": "text/x-python",
   "name": "python",
   "nbconvert_exporter": "python",
   "pygments_lexer": "ipython3",
   "version": "3.8.3-final"
  },
  "orig_nbformat": 2,
  "kernelspec": {
   "name": "python38364bit6587694f42a84e689d790c0562cc5a1d",
   "display_name": "Python 3.8.3 64-bit"
  }
 },
 "nbformat": 4,
 "nbformat_minor": 2
}