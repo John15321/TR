{
 "cells": [
  {
   "cell_type": "code",
   "execution_count": 47,
   "metadata": {},
   "outputs": [],
   "source": [
    "import numpy as numpy\n",
    "import matplotlib.pyplot as plt\n",
    "import sympy as senpai\n",
    "from sympy import print_latex"
   ]
  },
  {
   "cell_type": "code",
   "execution_count": 48,
   "metadata": {},
   "outputs": [],
   "source": [
    "# Definiujemy obiekty biblioteki SymPy\n",
    "t, y, s, w, j = senpai.symbols('t y s w j')"
   ]
  },
  {
   "cell_type": "code",
   "execution_count": 49,
   "metadata": {},
   "outputs": [
    {
     "name": "stdout",
     "output_type": "stream",
     "text": [
      "\\frac{1}{\\left(s + 1\\right) \\left(s + 2\\right)}\n",
      "K(s)=\n"
     ]
    },
    {
     "data": {
      "text/latex": [
       "$\\displaystyle \\frac{1}{\\left(s + 1\\right) \\left(s + 2\\right)}$"
      ],
      "text/plain": [
       "1/((s + 1)*(s + 2))"
      ]
     },
     "execution_count": 49,
     "metadata": {},
     "output_type": "execute_result"
    }
   ],
   "source": [
    "Ks = (1)/((s+1)*(s+2))\n",
    "print_latex(Ks)\n",
    "print(\"K(s)=\")\n",
    "Ks"
   ]
  },
  {
   "cell_type": "code",
   "execution_count": 50,
   "metadata": {},
   "outputs": [
    {
     "name": "stdout",
     "output_type": "stream",
     "text": [
      "4 \\sin{\\left(5 t \\right)}\n",
      "u(t)=\n"
     ]
    },
    {
     "data": {
      "text/latex": [
       "$\\displaystyle 4 \\sin{\\left(5 t \\right)}$"
      ],
      "text/plain": [
       "4*sin(5*t)"
      ]
     },
     "execution_count": 50,
     "metadata": {},
     "output_type": "execute_result"
    }
   ],
   "source": [
    "u = 4*senpai.sin(5*t)\n",
    "print_latex(u)\n",
    "print(\"u(t)=\")\n",
    "u"
   ]
  },
  {
   "cell_type": "code",
   "execution_count": 51,
   "metadata": {},
   "outputs": [
    {
     "name": "stdout",
     "output_type": "stream",
     "text": [
      "\\frac{20}{s^{2} + 25}\n",
      "u(s)=\n"
     ]
    },
    {
     "data": {
      "text/latex": [
       "$\\displaystyle \\frac{20}{s^{2} + 25}$"
      ],
      "text/plain": [
       "20/(s**2 + 25)"
      ]
     },
     "execution_count": 51,
     "metadata": {},
     "output_type": "execute_result"
    }
   ],
   "source": [
    "u_s = senpai.laplace_transform(u, t, s)[0]\n",
    "print_latex(u_s)\n",
    "print(\"u(s)=\")\n",
    "u_s"
   ]
  },
  {
   "cell_type": "code",
   "execution_count": 52,
   "metadata": {},
   "outputs": [
    {
     "name": "stdout",
     "output_type": "stream",
     "text": [
      "1/((j*w + 1)*(j*w + 2))\n"
     ]
    },
    {
     "data": {
      "text/latex": [
       "$\\displaystyle \\frac{1}{\\left(j w + 1\\right) \\left(j w + 2\\right)}$"
      ],
      "text/plain": [
       "1/((j*w + 1)*(j*w + 2))"
      ]
     },
     "execution_count": 52,
     "metadata": {},
     "output_type": "execute_result"
    }
   ],
   "source": [
    "K_jw = Ks.replace(s, j*w)\n",
    "print(K_jw)\n",
    "K_jw"
   ]
  },
  {
   "cell_type": "code",
   "execution_count": 53,
   "metadata": {},
   "outputs": [],
   "source": [
    "from sympy import re, im, E, I"
   ]
  },
  {
   "cell_type": "code",
   "execution_count": null,
   "metadata": {},
   "outputs": [],
   "source": []
  },
  {
   "cell_type": "code",
   "execution_count": 54,
   "metadata": {},
   "outputs": [
    {
     "name": "stdout",
     "output_type": "stream",
     "text": [
      "1/((I*w + 1)*(I*w + 2))\n"
     ]
    },
    {
     "data": {
      "text/latex": [
       "$\\displaystyle \\frac{1}{\\left(i w + 1\\right) \\left(i w + 2\\right)}$"
      ],
      "text/plain": [
       "1/((I*w + 1)*(I*w + 2))"
      ]
     },
     "execution_count": 54,
     "metadata": {},
     "output_type": "execute_result"
    }
   ],
   "source": [
    "K_i = K_jw.replace(j, I)\n",
    "print(K_i)\n",
    "K_i"
   ]
  },
  {
   "cell_type": "code",
   "execution_count": 55,
   "metadata": {},
   "outputs": [
    {
     "data": {
      "text/latex": [
       "$\\displaystyle \\frac{1}{\\left|{\\left(i w + 1\\right) \\left(i w + 2\\right)}\\right|}$"
      ],
      "text/plain": [
       "1/Abs((I*w + 1)*(I*w + 2))"
      ]
     },
     "execution_count": 55,
     "metadata": {},
     "output_type": "execute_result"
    }
   ],
   "source": [
    "senpai.Abs(K_i)"
   ]
  },
  {
   "cell_type": "code",
   "execution_count": 56,
   "metadata": {},
   "outputs": [
    {
     "name": "stdout",
     "output_type": "stream",
     "text": [
      "Mianownik\n"
     ]
    },
    {
     "data": {
      "text/latex": [
       "$\\displaystyle w^{4} + 5 w^{2} + 4$"
      ],
      "text/plain": [
       "w**4 + 5*w**2 + 4"
      ]
     },
     "execution_count": 56,
     "metadata": {},
     "output_type": "execute_result"
    }
   ],
   "source": [
    "print(\"Mianownik\")\n",
    "M = senpai.simplify(((I*w + 1)*(I*w + 2))*((-I*w + 1)*(-I*w + 2)))\n",
    "M"
   ]
  },
  {
   "cell_type": "code",
   "execution_count": 57,
   "metadata": {},
   "outputs": [
    {
     "data": {
      "text/latex": [
       "$\\displaystyle \\frac{\\left(- i w + 1\\right) \\left(- i w + 2\\right)}{w^{4} + 5 w^{2} + 4}$"
      ],
      "text/plain": [
       "(-I*w + 1)*(-I*w + 2)/(w**4 + 5*w**2 + 4)"
      ]
     },
     "execution_count": 57,
     "metadata": {},
     "output_type": "execute_result"
    }
   ],
   "source": [
    "K_jw = ((-I*w + 1)*(-I*w + 2))/M\n",
    "K_jw"
   ]
  },
  {
   "cell_type": "code",
   "execution_count": 58,
   "metadata": {},
   "outputs": [
    {
     "data": {
      "text/latex": [
       "$\\displaystyle - \\frac{2 \\sqrt{754} \\sin{\\left(5 t + \\operatorname{atan}{\\left(\\frac{15}{23} \\right)} \\right)}}{377}$"
      ],
      "text/plain": [
       "-2*sqrt(754)*sin(5*t + atan(15/23))/377"
      ]
     },
     "execution_count": 58,
     "metadata": {},
     "output_type": "execute_result"
    }
   ],
   "source": [
    "yt = (senpai.Abs(K_jw)*4*senpai.sin(w*t+senpai.arg(K_jw))).replace(w, 5)\n",
    "yt"
   ]
  },
  {
   "cell_type": "code",
   "execution_count": 59,
   "metadata": {},
   "outputs": [
    {
     "data": {
      "text/latex": [
       "$\\displaystyle - \\frac{2 \\sqrt{754} \\sin{\\left(5 t + \\operatorname{atan}{\\left(\\frac{15}{23} \\right)} \\right)}}{377}$"
      ],
      "text/plain": [
       "-2*sqrt(754)*sin(5*t + atan(15/23))/377"
      ]
     },
     "execution_count": 59,
     "metadata": {},
     "output_type": "execute_result"
    }
   ],
   "source": [
    "senpai.factor(yt)"
   ]
  },
  {
   "cell_type": "code",
   "execution_count": 60,
   "metadata": {},
   "outputs": [
    {
     "data": {
      "text/latex": [
       "$\\displaystyle \\frac{2 - e^{2}}{\\left(2 - e^{2}\\right)^{2} + 9 e^{2}}$"
      ],
      "text/plain": [
       "(2 - exp(2))/((2 - exp(2))**2 + 9*exp(2))"
      ]
     },
     "execution_count": 60,
     "metadata": {},
     "output_type": "execute_result"
    }
   ],
   "source": [
    "senpai.simplify(re(1/senpai.expand(((-I*w + 1)*(-I*w + 2))))).replace(w, E)"
   ]
  },
  {
   "cell_type": "code",
   "execution_count": 61,
   "metadata": {},
   "outputs": [
    {
     "data": {
      "text/latex": [
       "$\\displaystyle - w^{2} - 3 i w + 2$"
      ],
      "text/plain": [
       "-w**2 - 3*I*w + 2"
      ]
     },
     "execution_count": 61,
     "metadata": {},
     "output_type": "execute_result"
    }
   ],
   "source": [
    "senpai.expand(((-I*w + 1)*(-I*w + 2)))"
   ]
  },
  {
   "cell_type": "code",
   "execution_count": 62,
   "metadata": {},
   "outputs": [
    {
     "data": {
      "text/latex": [
       "$\\displaystyle \\frac{2 - w^{2}}{w^{4} + 5 w^{2} + 4}$"
      ],
      "text/plain": [
       "(2 - w**2)/(w**4 + 5*w**2 + 4)"
      ]
     },
     "execution_count": 62,
     "metadata": {},
     "output_type": "execute_result"
    }
   ],
   "source": [
    "R = ((-w**2 + 2)/M)\n",
    "R"
   ]
  },
  {
   "cell_type": "code",
   "execution_count": 63,
   "metadata": {},
   "outputs": [
    {
     "data": {
      "text/latex": [
       "$\\displaystyle - \\frac{3 w}{w^{4} + 5 w^{2} + 4}$"
      ],
      "text/plain": [
       "-3*w/(w**4 + 5*w**2 + 4)"
      ]
     },
     "execution_count": 63,
     "metadata": {},
     "output_type": "execute_result"
    }
   ],
   "source": [
    "IM = (-3*w)/M\n",
    "IM"
   ]
  },
  {
   "cell_type": "code",
   "execution_count": 64,
   "metadata": {},
   "outputs": [
    {
     "data": {
      "text/latex": [
       "$\\displaystyle \\sqrt{\\frac{\\left(w^{2} + 1\\right) \\left(w^{2} + 4\\right)}{w^{8} + 10 w^{6} + 33 w^{4} + 40 w^{2} + 16}}$"
      ],
      "text/plain": [
       "sqrt((w**2 + 1)*(w**2 + 4)/(w**8 + 10*w**6 + 33*w**4 + 40*w**2 + 16))"
      ]
     },
     "execution_count": 64,
     "metadata": {},
     "output_type": "execute_result"
    }
   ],
   "source": [
    "modulencja = senpai.sqrt(R**2 + IM**2)\n",
    "modulencja = senpai.factor(modulencja)\n",
    "senpai.simplify(modulencja)\n",
    "# print(modulencja)"
   ]
  },
  {
   "cell_type": "code",
   "execution_count": 65,
   "metadata": {},
   "outputs": [
    {
     "name": "stdout",
     "output_type": "stream",
     "text": [
      "(w**2 + 1)*(w**2 + 4)/(w**4 + 5*w**2 + 4)**2\n"
     ]
    },
    {
     "data": {
      "text/latex": [
       "$\\displaystyle \\frac{\\left(w^{2} + 1\\right) \\left(w^{2} + 4\\right)}{\\left(w^{4} + 5 w^{2} + 4\\right)^{2}}$"
      ],
      "text/plain": [
       "(w**2 + 1)*(w**2 + 4)/(w**4 + 5*w**2 + 4)**2"
      ]
     },
     "execution_count": 65,
     "metadata": {},
     "output_type": "execute_result"
    }
   ],
   "source": [
    "modulencja=(w**2 + 1)*(w**2 + 4)/M**2\n",
    "print(modulencja)\n",
    "modulencja"
   ]
  },
  {
   "cell_type": "code",
   "execution_count": 66,
   "metadata": {},
   "outputs": [
    {
     "data": {
      "text/latex": [
       "$\\displaystyle \\frac{1}{\\left(w^{2} + 1\\right) \\left(w^{2} + 4\\right)}$"
      ],
      "text/plain": [
       "1/((w**2 + 1)*(w**2 + 4))"
      ]
     },
     "execution_count": 66,
     "metadata": {},
     "output_type": "execute_result"
    }
   ],
   "source": [
    "modulencja=1/((w**2 + 1)*(w**2 + 4))\n",
    "modulencja"
   ]
  },
  {
   "cell_type": "code",
   "execution_count": 67,
   "metadata": {},
   "outputs": [
    {
     "data": {
      "text/latex": [
       "$\\displaystyle 2 - w^{2}$"
      ],
      "text/plain": [
       "2 - w**2"
      ]
     },
     "execution_count": 67,
     "metadata": {},
     "output_type": "execute_result"
    }
   ],
   "source": [
    "cos_z_fifi = senpai.factor(R/modulencja)\n",
    "cos_z_fifi"
   ]
  },
  {
   "cell_type": "code",
   "execution_count": 68,
   "metadata": {},
   "outputs": [
    {
     "data": {
      "text/latex": [
       "$\\displaystyle \\operatorname{acos}{\\left(2 - w^{2} \\right)}$"
      ],
      "text/plain": [
       "acos(2 - w**2)"
      ]
     },
     "execution_count": 68,
     "metadata": {},
     "output_type": "execute_result"
    }
   ],
   "source": [
    "arg = senpai.acos(cos_z_fifi)\n",
    "arg"
   ]
  },
  {
   "cell_type": "code",
   "execution_count": 69,
   "metadata": {},
   "outputs": [
    {
     "data": {
      "text/latex": [
       "$\\displaystyle \\frac{e^{i \\operatorname{acos}{\\left(2 - w^{2} \\right)}}}{\\left(w^{2} + 1\\right) \\left(w^{2} + 4\\right)}$"
      ],
      "text/plain": [
       "exp(I*acos(2 - w**2))/((w**2 + 1)*(w**2 + 4))"
      ]
     },
     "execution_count": 69,
     "metadata": {},
     "output_type": "execute_result"
    }
   ],
   "source": [
    "K = modulencja*senpai.exp(I*arg)\n",
    "K"
   ]
  },
  {
   "cell_type": "code",
   "execution_count": 70,
   "metadata": {},
   "outputs": [
    {
     "data": {
      "text/latex": [
       "$\\displaystyle \\frac{2 - w^{2}}{w^{4} + 5 w^{2} + 4}$"
      ],
      "text/plain": [
       "(2 - w**2)/(w**4 + 5*w**2 + 4)"
      ]
     },
     "execution_count": 70,
     "metadata": {},
     "output_type": "execute_result"
    }
   ],
   "source": [
    "R"
   ]
  },
  {
   "cell_type": "code",
   "execution_count": 71,
   "metadata": {},
   "outputs": [
    {
     "data": {
      "text/latex": [
       "$\\displaystyle \\frac{\\sqrt{754}}{754}$"
      ],
      "text/plain": [
       "sqrt(754)/754"
      ]
     },
     "execution_count": 71,
     "metadata": {},
     "output_type": "execute_result"
    }
   ],
   "source": [
    "senpai.sqrt(modulencja.replace(w, 5))"
   ]
  },
  {
   "cell_type": "code",
   "execution_count": 75,
   "metadata": {},
   "outputs": [
    {
     "data": {
      "text/latex": [
       "$\\displaystyle - \\frac{23}{754}$"
      ],
      "text/plain": [
       "-23/754"
      ]
     },
     "execution_count": 75,
     "metadata": {},
     "output_type": "execute_result"
    }
   ],
   "source": [
    "senpai.factor(modulencja.replace(w, 5)*(-23))"
   ]
  },
  {
   "cell_type": "code",
   "execution_count": 74,
   "metadata": {},
   "outputs": [
    {
     "ename": "NameError",
     "evalue": "name 'np' is not defined",
     "output_type": "error",
     "traceback": [
      "\u001b[1;31m---------------------------------------------------------------------------\u001b[0m",
      "\u001b[1;31mNameError\u001b[0m                                 Traceback (most recent call last)",
      "\u001b[1;32m<ipython-input-74-f4827ecd7a6a>\u001b[0m in \u001b[0;36m<module>\u001b[1;34m\u001b[0m\n\u001b[1;32m----> 1\u001b[1;33m \u001b[0mnp\u001b[0m\u001b[1;33m.\u001b[0m\u001b[0msqrt\u001b[0m\u001b[1;33m(\u001b[0m\u001b[1;36m1\u001b[0m\u001b[1;33m/\u001b[0m\u001b[1;36m754\u001b[0m\u001b[1;33m)\u001b[0m\u001b[1;33m\u001b[0m\u001b[1;33m\u001b[0m\u001b[0m\n\u001b[0m",
      "\u001b[1;31mNameError\u001b[0m: name 'np' is not defined"
     ]
    }
   ],
   "source": [
    "np.sqrt(1/754)"
   ]
  },
  {
   "cell_type": "code",
   "execution_count": null,
   "metadata": {},
   "outputs": [],
   "source": []
  },
  {
   "cell_type": "code",
   "execution_count": null,
   "metadata": {},
   "outputs": [],
   "source": []
  },
  {
   "cell_type": "code",
   "execution_count": null,
   "metadata": {},
   "outputs": [],
   "source": []
  },
  {
   "cell_type": "code",
   "execution_count": null,
   "metadata": {},
   "outputs": [],
   "source": []
  },
  {
   "cell_type": "code",
   "execution_count": null,
   "metadata": {},
   "outputs": [],
   "source": []
  },
  {
   "cell_type": "code",
   "execution_count": null,
   "metadata": {},
   "outputs": [],
   "source": []
  },
  {
   "cell_type": "code",
   "execution_count": null,
   "metadata": {},
   "outputs": [],
   "source": []
  },
  {
   "cell_type": "code",
   "execution_count": null,
   "metadata": {},
   "outputs": [],
   "source": []
  }
 ],
 "metadata": {
  "kernelspec": {
   "display_name": "Python 3",
   "language": "python",
   "name": "python3"
  },
  "language_info": {
   "codemirror_mode": {
    "name": "ipython",
    "version": 3
   },
   "file_extension": ".py",
   "mimetype": "text/x-python",
   "name": "python",
   "nbconvert_exporter": "python",
   "pygments_lexer": "ipython3",
   "version": "3.7.6"
  }
 },
 "nbformat": 4,
 "nbformat_minor": 4
}
