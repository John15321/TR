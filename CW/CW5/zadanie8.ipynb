{
 "cells": [
  {
   "cell_type": "code",
   "execution_count": 1,
   "metadata": {},
   "outputs": [],
   "source": [
    "import numpy as numpy\n",
    "import matplotlib.pyplot as plt\n",
    "import sympy as senpai\n",
    "from sympy import print_latex"
   ]
  },
  {
   "cell_type": "code",
   "execution_count": 2,
   "metadata": {},
   "outputs": [],
   "source": [
    "# Definiujemy obiekty biblioteki SymPy\n",
    "t, y, s, w, j = senpai.symbols('t y s w j')"
   ]
  },
  {
   "cell_type": "code",
   "execution_count": 3,
   "metadata": {},
   "outputs": [
    {
     "output_type": "stream",
     "name": "stdout",
     "text": "\\frac{1}{\\left(s + 1\\right) \\left(s + 2\\right)}\nK(s)=\n"
    },
    {
     "output_type": "execute_result",
     "data": {
      "text/plain": "1/((s + 1)*(s + 2))",
      "text/latex": "$\\displaystyle \\frac{1}{\\left(s + 1\\right) \\left(s + 2\\right)}$"
     },
     "metadata": {},
     "execution_count": 3
    }
   ],
   "source": [
    "Ks = (1)/((s+1)*(s+2))\n",
    "print_latex(Ks)\n",
    "print(\"K(s)=\")\n",
    "Ks"
   ]
  },
  {
   "cell_type": "code",
   "execution_count": 4,
   "metadata": {},
   "outputs": [
    {
     "output_type": "stream",
     "name": "stdout",
     "text": "4 \\sin{\\left(5 t \\right)}\nu(t)=\n"
    },
    {
     "output_type": "execute_result",
     "data": {
      "text/plain": "4*sin(5*t)",
      "text/latex": "$\\displaystyle 4 \\sin{\\left(5 t \\right)}$"
     },
     "metadata": {},
     "execution_count": 4
    }
   ],
   "source": [
    "u = 4*senpai.sin(5*t)\n",
    "print_latex(u)\n",
    "print(\"u(t)=\")\n",
    "u"
   ]
  },
  {
   "cell_type": "code",
   "execution_count": 5,
   "metadata": {},
   "outputs": [
    {
     "output_type": "stream",
     "name": "stdout",
     "text": "\\frac{20}{s^{2} + 25}\nu(s)=\n"
    },
    {
     "output_type": "execute_result",
     "data": {
      "text/plain": "20/(s**2 + 25)",
      "text/latex": "$\\displaystyle \\frac{20}{s^{2} + 25}$"
     },
     "metadata": {},
     "execution_count": 5
    }
   ],
   "source": [
    "u_s = senpai.laplace_transform(u, t, s)[0]\n",
    "print_latex(u_s)\n",
    "print(\"u(s)=\")\n",
    "u_s"
   ]
  },
  {
   "cell_type": "code",
   "execution_count": 6,
   "metadata": {},
   "outputs": [
    {
     "output_type": "stream",
     "name": "stdout",
     "text": "1/((j*w + 1)*(j*w + 2))\n"
    },
    {
     "output_type": "execute_result",
     "data": {
      "text/plain": "1/((j*w + 1)*(j*w + 2))",
      "text/latex": "$\\displaystyle \\frac{1}{\\left(j w + 1\\right) \\left(j w + 2\\right)}$"
     },
     "metadata": {},
     "execution_count": 6
    }
   ],
   "source": [
    "K_jw = Ks.replace(s, j*w)\n",
    "print(K_jw)\n",
    "K_jw"
   ]
  },
  {
   "cell_type": "code",
   "execution_count": 7,
   "metadata": {},
   "outputs": [],
   "source": [
    "from sympy import re, im, E, I"
   ]
  },
  {
   "cell_type": "code",
   "execution_count": null,
   "metadata": {},
   "outputs": [],
   "source": []
  },
  {
   "cell_type": "code",
   "execution_count": 8,
   "metadata": {},
   "outputs": [
    {
     "output_type": "stream",
     "name": "stdout",
     "text": "1/((I*w + 1)*(I*w + 2))\n\\frac{1}{\\left(i w + 1\\right) \\left(i w + 2\\right)}\n"
    },
    {
     "output_type": "execute_result",
     "data": {
      "text/plain": "1/((I*w + 1)*(I*w + 2))",
      "text/latex": "$\\displaystyle \\frac{1}{\\left(i w + 1\\right) \\left(i w + 2\\right)}$"
     },
     "metadata": {},
     "execution_count": 8
    }
   ],
   "source": [
    "K_i = K_jw.replace(j, I)\n",
    "print(K_i)\n",
    "print_latex(K_i)\n",
    "K_i"
   ]
  },
  {
   "cell_type": "code",
   "execution_count": 9,
   "metadata": {},
   "outputs": [
    {
     "output_type": "execute_result",
     "data": {
      "text/plain": "1/Abs((I*w + 1)*(I*w + 2))",
      "text/latex": "$\\displaystyle \\frac{1}{\\left|{\\left(i w + 1\\right) \\left(i w + 2\\right)}\\right|}$"
     },
     "metadata": {},
     "execution_count": 9
    }
   ],
   "source": [
    "senpai.Abs(K_i)"
   ]
  },
  {
   "cell_type": "code",
   "execution_count": 10,
   "metadata": {},
   "outputs": [
    {
     "output_type": "stream",
     "name": "stdout",
     "text": "Mianownik\n"
    },
    {
     "output_type": "execute_result",
     "data": {
      "text/plain": "w**4 + 5*w**2 + 4",
      "text/latex": "$\\displaystyle w^{4} + 5 w^{2} + 4$"
     },
     "metadata": {},
     "execution_count": 10
    }
   ],
   "source": [
    "print(\"Mianownik\")\n",
    "M = senpai.simplify(((I*w + 1)*(I*w + 2))*((-I*w + 1)*(-I*w + 2)))\n",
    "M"
   ]
  },
  {
   "cell_type": "code",
   "execution_count": 11,
   "metadata": {},
   "outputs": [
    {
     "output_type": "execute_result",
     "data": {
      "text/plain": "(-I*w + 1)*(-I*w + 2)/(w**4 + 5*w**2 + 4)",
      "text/latex": "$\\displaystyle \\frac{\\left(- i w + 1\\right) \\left(- i w + 2\\right)}{w^{4} + 5 w^{2} + 4}$"
     },
     "metadata": {},
     "execution_count": 11
    }
   ],
   "source": [
    "K_jw = ((-I*w + 1)*(-I*w + 2))/M\n",
    "K_jw"
   ]
  },
  {
   "cell_type": "code",
   "execution_count": 12,
   "metadata": {},
   "outputs": [
    {
     "output_type": "execute_result",
     "data": {
      "text/plain": "-2*sqrt(754)*sin(5*t + atan(15/23))/377",
      "text/latex": "$\\displaystyle - \\frac{2 \\sqrt{754} \\sin{\\left(5 t + \\operatorname{atan}{\\left(\\frac{15}{23} \\right)} \\right)}}{377}$"
     },
     "metadata": {},
     "execution_count": 12
    }
   ],
   "source": [
    "yt = (senpai.Abs(K_jw)*4*senpai.sin(w*t+senpai.arg(K_jw))).replace(w, 5)\n",
    "yt"
   ]
  },
  {
   "cell_type": "code",
   "execution_count": 13,
   "metadata": {},
   "outputs": [
    {
     "output_type": "execute_result",
     "data": {
      "text/plain": "-2*sqrt(754)*sin(5*t + atan(15/23))/377",
      "text/latex": "$\\displaystyle - \\frac{2 \\sqrt{754} \\sin{\\left(5 t + \\operatorname{atan}{\\left(\\frac{15}{23} \\right)} \\right)}}{377}$"
     },
     "metadata": {},
     "execution_count": 13
    }
   ],
   "source": [
    "senpai.factor(yt)"
   ]
  },
  {
   "cell_type": "code",
   "execution_count": 14,
   "metadata": {},
   "outputs": [
    {
     "output_type": "execute_result",
     "data": {
      "text/plain": "(2 - exp(2))/((2 - exp(2))**2 + 9*exp(2))",
      "text/latex": "$\\displaystyle \\frac{2 - e^{2}}{\\left(2 - e^{2}\\right)^{2} + 9 e^{2}}$"
     },
     "metadata": {},
     "execution_count": 14
    }
   ],
   "source": [
    "senpai.simplify(re(1/senpai.expand(((-I*w + 1)*(-I*w + 2))))).replace(w, E)"
   ]
  },
  {
   "cell_type": "code",
   "execution_count": 15,
   "metadata": {},
   "outputs": [
    {
     "output_type": "execute_result",
     "data": {
      "text/plain": "-w**2 - 3*I*w + 2",
      "text/latex": "$\\displaystyle - w^{2} - 3 i w + 2$"
     },
     "metadata": {},
     "execution_count": 15
    }
   ],
   "source": [
    "senpai.expand(((-I*w + 1)*(-I*w + 2)))"
   ]
  },
  {
   "cell_type": "code",
   "execution_count": 16,
   "metadata": {},
   "outputs": [
    {
     "output_type": "execute_result",
     "data": {
      "text/plain": "(2 - w**2)/(w**4 + 5*w**2 + 4)",
      "text/latex": "$\\displaystyle \\frac{2 - w^{2}}{w^{4} + 5 w^{2} + 4}$"
     },
     "metadata": {},
     "execution_count": 16
    }
   ],
   "source": [
    "R = ((-w**2 + 2)/M)\n",
    "R"
   ]
  },
  {
   "cell_type": "code",
   "execution_count": 17,
   "metadata": {},
   "outputs": [
    {
     "output_type": "execute_result",
     "data": {
      "text/plain": "-3*w/(w**4 + 5*w**2 + 4)",
      "text/latex": "$\\displaystyle - \\frac{3 w}{w^{4} + 5 w^{2} + 4}$"
     },
     "metadata": {},
     "execution_count": 17
    }
   ],
   "source": [
    "IM = (-3*w)/M\n",
    "IM"
   ]
  },
  {
   "cell_type": "code",
   "execution_count": 18,
   "metadata": {},
   "outputs": [
    {
     "output_type": "execute_result",
     "data": {
      "text/plain": "sqrt((w**2 + 1)*(w**2 + 4)/(w**8 + 10*w**6 + 33*w**4 + 40*w**2 + 16))",
      "text/latex": "$\\displaystyle \\sqrt{\\frac{\\left(w^{2} + 1\\right) \\left(w^{2} + 4\\right)}{w^{8} + 10 w^{6} + 33 w^{4} + 40 w^{2} + 16}}$"
     },
     "metadata": {},
     "execution_count": 18
    }
   ],
   "source": [
    "modulencja = senpai.sqrt(R**2 + IM**2)\n",
    "modulencja = senpai.factor(modulencja)\n",
    "senpai.simplify(modulencja)\n",
    "# print(modulencja)"
   ]
  },
  {
   "cell_type": "code",
   "execution_count": 19,
   "metadata": {},
   "outputs": [
    {
     "output_type": "stream",
     "name": "stdout",
     "text": "(w**2 + 1)*(w**2 + 4)/(w**4 + 5*w**2 + 4)**2\n"
    },
    {
     "output_type": "execute_result",
     "data": {
      "text/plain": "(w**2 + 1)*(w**2 + 4)/(w**4 + 5*w**2 + 4)**2",
      "text/latex": "$\\displaystyle \\frac{\\left(w^{2} + 1\\right) \\left(w^{2} + 4\\right)}{\\left(w^{4} + 5 w^{2} + 4\\right)^{2}}$"
     },
     "metadata": {},
     "execution_count": 19
    }
   ],
   "source": [
    "modulencja=(w**2 + 1)*(w**2 + 4)/M**2\n",
    "print(modulencja)\n",
    "modulencja"
   ]
  },
  {
   "cell_type": "code",
   "execution_count": 20,
   "metadata": {},
   "outputs": [
    {
     "output_type": "execute_result",
     "data": {
      "text/plain": "1/((w**2 + 1)*(w**2 + 4))",
      "text/latex": "$\\displaystyle \\frac{1}{\\left(w^{2} + 1\\right) \\left(w^{2} + 4\\right)}$"
     },
     "metadata": {},
     "execution_count": 20
    }
   ],
   "source": [
    "modulencja=1/((w**2 + 1)*(w**2 + 4))\n",
    "modulencja"
   ]
  },
  {
   "cell_type": "code",
   "execution_count": 21,
   "metadata": {},
   "outputs": [
    {
     "output_type": "execute_result",
     "data": {
      "text/plain": "2 - w**2",
      "text/latex": "$\\displaystyle 2 - w^{2}$"
     },
     "metadata": {},
     "execution_count": 21
    }
   ],
   "source": [
    "cos_z_fifi = senpai.factor(R/modulencja)\n",
    "cos_z_fifi"
   ]
  },
  {
   "cell_type": "code",
   "execution_count": 22,
   "metadata": {},
   "outputs": [
    {
     "output_type": "execute_result",
     "data": {
      "text/plain": "acos(2 - w**2)",
      "text/latex": "$\\displaystyle \\operatorname{acos}{\\left(2 - w^{2} \\right)}$"
     },
     "metadata": {},
     "execution_count": 22
    }
   ],
   "source": [
    "arg = senpai.acos(cos_z_fifi)\n",
    "arg"
   ]
  },
  {
   "cell_type": "code",
   "execution_count": 23,
   "metadata": {},
   "outputs": [
    {
     "output_type": "execute_result",
     "data": {
      "text/plain": "exp(I*acos(2 - w**2))/((w**2 + 1)*(w**2 + 4))",
      "text/latex": "$\\displaystyle \\frac{e^{i \\operatorname{acos}{\\left(2 - w^{2} \\right)}}}{\\left(w^{2} + 1\\right) \\left(w^{2} + 4\\right)}$"
     },
     "metadata": {},
     "execution_count": 23
    }
   ],
   "source": [
    "K = modulencja*senpai.exp(I*arg)\n",
    "K"
   ]
  },
  {
   "cell_type": "code",
   "execution_count": 24,
   "metadata": {},
   "outputs": [
    {
     "output_type": "execute_result",
     "data": {
      "text/plain": "(2 - w**2)/(w**4 + 5*w**2 + 4)",
      "text/latex": "$\\displaystyle \\frac{2 - w^{2}}{w^{4} + 5 w^{2} + 4}$"
     },
     "metadata": {},
     "execution_count": 24
    }
   ],
   "source": [
    "R"
   ]
  },
  {
   "cell_type": "code",
   "execution_count": 25,
   "metadata": {},
   "outputs": [
    {
     "output_type": "execute_result",
     "data": {
      "text/plain": "sqrt(754)/754",
      "text/latex": "$\\displaystyle \\frac{\\sqrt{754}}{754}$"
     },
     "metadata": {},
     "execution_count": 25
    }
   ],
   "source": [
    "senpai.sqrt(modulencja.replace(w, 5))"
   ]
  },
  {
   "cell_type": "code",
   "execution_count": 26,
   "metadata": {},
   "outputs": [
    {
     "output_type": "execute_result",
     "data": {
      "text/plain": "-23/754",
      "text/latex": "$\\displaystyle - \\frac{23}{754}$"
     },
     "metadata": {},
     "execution_count": 26
    }
   ],
   "source": [
    "senpai.factor(modulencja.replace(w, 5)*(-23))"
   ]
  },
  {
   "cell_type": "code",
   "execution_count": 74,
   "metadata": {},
   "outputs": [
    {
     "ename": "NameError",
     "evalue": "name 'np' is not defined",
     "output_type": "error",
     "traceback": [
      "\u001b[1;31m---------------------------------------------------------------------------\u001b[0m",
      "\u001b[1;31mNameError\u001b[0m                                 Traceback (most recent call last)",
      "\u001b[1;32m<ipython-input-74-f4827ecd7a6a>\u001b[0m in \u001b[0;36m<module>\u001b[1;34m\u001b[0m\n\u001b[1;32m----> 1\u001b[1;33m \u001b[0mnp\u001b[0m\u001b[1;33m.\u001b[0m\u001b[0msqrt\u001b[0m\u001b[1;33m(\u001b[0m\u001b[1;36m1\u001b[0m\u001b[1;33m/\u001b[0m\u001b[1;36m754\u001b[0m\u001b[1;33m)\u001b[0m\u001b[1;33m\u001b[0m\u001b[1;33m\u001b[0m\u001b[0m\n\u001b[0m",
      "\u001b[1;31mNameError\u001b[0m: name 'np' is not defined"
     ]
    }
   ],
   "source": [
    "np.sqrt(1/754)"
   ]
  },
  {
   "cell_type": "code",
   "execution_count": null,
   "metadata": {},
   "outputs": [],
   "source": []
  },
  {
   "cell_type": "code",
   "execution_count": null,
   "metadata": {},
   "outputs": [],
   "source": []
  },
  {
   "cell_type": "code",
   "execution_count": null,
   "metadata": {},
   "outputs": [],
   "source": []
  },
  {
   "cell_type": "code",
   "execution_count": null,
   "metadata": {},
   "outputs": [],
   "source": []
  },
  {
   "cell_type": "code",
   "execution_count": null,
   "metadata": {},
   "outputs": [],
   "source": []
  },
  {
   "cell_type": "code",
   "execution_count": null,
   "metadata": {},
   "outputs": [],
   "source": []
  },
  {
   "cell_type": "code",
   "execution_count": null,
   "metadata": {},
   "outputs": [],
   "source": []
  },
  {
   "cell_type": "code",
   "execution_count": null,
   "metadata": {},
   "outputs": [],
   "source": []
  }
 ],
 "metadata": {
  "kernelspec": {
   "display_name": "Python 3.8.2 64-bit",
   "language": "python",
   "name": "python38264bit936ce43396354ad0998a2f5599faf09b"
  },
  "language_info": {
   "codemirror_mode": {
    "name": "ipython",
    "version": 3
   },
   "file_extension": ".py",
   "mimetype": "text/x-python",
   "name": "python",
   "nbconvert_exporter": "python",
   "pygments_lexer": "ipython3",
   "version": "3.8.2-final"
  }
 },
 "nbformat": 4,
 "nbformat_minor": 4
}